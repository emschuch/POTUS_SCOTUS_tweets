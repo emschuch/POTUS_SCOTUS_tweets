{
 "cells": [
  {
   "cell_type": "code",
   "execution_count": 1,
   "metadata": {
    "collapsed": true
   },
   "outputs": [],
   "source": [
    "import tweepy\n",
    "import cnfg\n",
    "import time\n",
    "import pickle"
   ]
  },
  {
   "cell_type": "code",
   "execution_count": 3,
   "metadata": {
    "collapsed": false
   },
   "outputs": [],
   "source": [
    "# import access keys\n",
    "config = cnfg.load(\"/Users/kaitlynmurphy/Documents/Post-It Project/.twitter_config\")\n",
    "\n",
    "# feed access keys to OAuth handler\n",
    "auth = tweepy.OAuthHandler(config[\"consumer_key\"],\n",
    "                           config[\"consumer_secret\"])\n",
    "auth.set_access_token(config[\"access_token\"],\n",
    "                      config[\"access_token_secret\"])\n",
    "\n",
    "# connect to twitter API\n",
    "api = tweepy.API(auth)"
   ]
  },
  {
   "cell_type": "code",
   "execution_count": 8,
   "metadata": {
    "collapsed": true
   },
   "outputs": [],
   "source": [
    "def get_tweets(search_term, n_tweets, sleep_time):\n",
    "    \"\"\"This function calls the Twitter API using tweepy\n",
    "    \n",
    "    Args:\n",
    "        search_term: any string to search for on Twitter\n",
    "        n_tweets: the number of tweets to collect\n",
    "        sleep_time: the amount of time to wait before re-rerunning (this is to avoid hitting the Twitter rate limit)\n",
    "    \n",
    "    Returns:\n",
    "        A list of tweet status objects \n",
    "    \"\"\"\n",
    "    tweets = []\n",
    "    tweets_status = api.search(q=search_term, count=100, result_type='recent')\n",
    "\n",
    "    for tweet in tweets_status:\n",
    "        tweets.append(tweet)\n",
    "\n",
    "    tweets_max = tweets_status.since_id\n",
    "\n",
    "    while len(tweets) < n_tweets:\n",
    "        tweets_status = api.search(q=search_term, result_type='recent', since_id=tweets_max, count=100)\n",
    "        tweets_max = tweets_status.since_id\n",
    "        for tweet in tweets_status:\n",
    "            tweets += [tweet]\n",
    "        print 'appending', len(tweets_status), time.time()\n",
    "        time.sleep(sleep_time)\n",
    "\n",
    "    print 'done', len(tweets)\n",
    "    return tweets"
   ]
  },
  {
   "cell_type": "code",
   "execution_count": 9,
   "metadata": {
    "collapsed": false
   },
   "outputs": [
    {
     "name": "stdout",
     "output_type": "stream",
     "text": [
      "appending 100 1485911073.96\n",
      "appending 100 1485911085.15\n",
      "appending 100 1485911095.92\n",
      "appending 100 1485911106.55\n",
      "appending 100 1485911117.3\n",
      "appending 100 1485911127.95\n",
      "appending 100 1485911138.56\n",
      "appending 100 1485911149.23\n",
      "appending 100 1485911159.9\n",
      "appending 100 1485911170.83\n",
      "appending 100 1485911181.45\n",
      "appending 100 1485911192.25\n",
      "appending 100 1485911202.95\n",
      "appending 100 1485911213.54\n",
      "appending 100 1485911224.1\n",
      "appending 100 1485911234.76\n",
      "appending 100 1485911245.32\n",
      "appending 100 1485911255.96\n",
      "appending 100 1485911266.69\n",
      "appending 100 1485911277.22\n",
      "appending 100 1485911287.82\n",
      "appending 100 1485911298.54\n",
      "appending 100 1485911309.61\n",
      "appending 100 1485911320.09\n",
      "appending 100 1485911330.82\n",
      "appending 100 1485911341.8\n",
      "appending 100 1485911352.55\n",
      "appending 100 1485911363.27\n",
      "appending 100 1485911373.92\n",
      "appending 100 1485911384.58\n",
      "appending 100 1485911395.22\n",
      "appending 100 1485911405.99\n",
      "appending 100 1485911416.79\n",
      "appending 100 1485911427.54\n",
      "appending 100 1485911438.19\n",
      "appending 100 1485911449.92\n",
      "appending 100 1485911460.59\n",
      "appending 100 1485911471.31\n",
      "appending 100 1485911481.97\n",
      "appending 100 1485911493.4\n",
      "appending 100 1485911504.01\n",
      "appending 100 1485911514.74\n",
      "appending 100 1485911525.39\n",
      "appending 100 1485911536.32\n",
      "appending 100 1485911547.06\n",
      "appending 100 1485911557.72\n",
      "appending 100 1485911568.31\n",
      "appending 100 1485911579.04\n",
      "appending 100 1485911589.68\n",
      "appending 100 1485911600.34\n",
      "appending 100 1485911610.98\n",
      "appending 100 1485911622.32\n",
      "appending 100 1485911632.93\n",
      "appending 100 1485911643.68\n",
      "appending 100 1485911654.41\n",
      "appending 100 1485911665.16\n",
      "appending 100 1485911675.79\n",
      "appending 100 1485911686.56\n",
      "appending 100 1485911697.3\n",
      "appending 100 1485911708.12\n",
      "appending 100 1485911719.03\n",
      "appending 100 1485911729.64\n",
      "appending 100 1485911740.36\n",
      "appending 100 1485911751.07\n",
      "appending 100 1485911761.94\n",
      "appending 100 1485911772.7\n",
      "appending 100 1485911783.53\n",
      "appending 100 1485911794.24\n",
      "appending 100 1485911804.84\n",
      "appending 100 1485911815.47\n",
      "appending 100 1485911826.25\n",
      "appending 100 1485911836.99\n",
      "appending 100 1485911847.54\n",
      "appending 100 1485911858.29\n",
      "appending 100 1485911869.1\n",
      "appending 100 1485911880.11\n",
      "appending 100 1485911890.76\n",
      "appending 100 1485911901.78\n",
      "appending 100 1485911913.45\n",
      "appending 100 1485911924.14\n",
      "appending 100 1485911934.84\n",
      "appending 100 1485911945.69\n",
      "appending 100 1485911956.32\n",
      "appending 100 1485911967.1\n",
      "appending 100 1485911977.78\n",
      "appending 100 1485911988.74\n",
      "appending 100 1485911999.41\n",
      "appending 100 1485912010.25\n",
      "appending 100 1485912020.85\n",
      "appending 100 1485912031.45\n",
      "appending 100 1485912042.11\n",
      "appending 100 1485912052.98\n",
      "appending 100 1485912063.84\n",
      "appending 100 1485912074.45\n",
      "appending 100 1485912085.2\n",
      "appending 100 1485912095.97\n",
      "appending 100 1485912106.86\n",
      "appending 100 1485912117.77\n",
      "appending 100 1485912128.53\n",
      "done 10000\n"
     ]
    }
   ],
   "source": [
    "scotus = get_tweets('#SCOTUS', 10000, 10)"
   ]
  },
  {
   "cell_type": "code",
   "execution_count": 10,
   "metadata": {
    "collapsed": false
   },
   "outputs": [
    {
     "data": {
      "text/plain": [
       "(10000, 10000)"
      ]
     },
     "execution_count": 10,
     "metadata": {},
     "output_type": "execute_result"
    }
   ],
   "source": [
    "tweet_ids = []\n",
    "\n",
    "for tweet in scotus:\n",
    "    tweet_ids += [tweet.id]\n",
    "    \n",
    "len(tweet_ids), len(set(tweet_ids))"
   ]
  },
  {
   "cell_type": "code",
   "execution_count": 11,
   "metadata": {
    "collapsed": true
   },
   "outputs": [],
   "source": [
    "with open('scotus_tweets_01_31.pkl', 'w') as picklefile:\n",
    "    pickle.dump(scotus, picklefile)"
   ]
  },
  {
   "cell_type": "code",
   "execution_count": null,
   "metadata": {
    "collapsed": true
   },
   "outputs": [],
   "source": []
  }
 ],
 "metadata": {
  "anaconda-cloud": {},
  "kernelspec": {
   "display_name": "Python [Root]",
   "language": "python",
   "name": "Python [Root]"
  },
  "language_info": {
   "codemirror_mode": {
    "name": "ipython",
    "version": 2
   },
   "file_extension": ".py",
   "mimetype": "text/x-python",
   "name": "python",
   "nbconvert_exporter": "python",
   "pygments_lexer": "ipython2",
   "version": "2.7.11"
  }
 },
 "nbformat": 4,
 "nbformat_minor": 0
}
