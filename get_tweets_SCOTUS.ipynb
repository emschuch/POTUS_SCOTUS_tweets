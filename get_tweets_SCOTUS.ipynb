{
 "cells": [
  {
   "cell_type": "code",
   "execution_count": 1,
   "metadata": {
    "collapsed": true
   },
   "outputs": [],
   "source": [
    "import tweepy\n",
    "import cnfg\n",
    "import time\n",
    "import pickle"
   ]
  },
  {
   "cell_type": "code",
   "execution_count": 3,
   "metadata": {
    "collapsed": false
   },
   "outputs": [],
   "source": [
    "# import access keys\n",
    "config = cnfg.load(\"/Users/kaitlynmurphy/Documents/Post-It Project/.twitter_config\")\n",
    "\n",
    "# feed access keys to OAuth handler\n",
    "auth = tweepy.OAuthHandler(config[\"consumer_key\"],\n",
    "                           config[\"consumer_secret\"])\n",
    "auth.set_access_token(config[\"access_token\"],\n",
    "                      config[\"access_token_secret\"])\n",
    "\n",
    "# connect to twitter API\n",
    "api = tweepy.API(auth)"
   ]
  },
  {
   "cell_type": "code",
   "execution_count": 8,
   "metadata": {
    "collapsed": true
   },
   "outputs": [],
   "source": [
    "def get_tweets(search_term, n_tweets, sleep_time):\n",
    "    \"\"\"This function calls the Twitter API using tweepy\n",
    "    \n",
    "    Args:\n",
    "        search_term: any string to search for on Twitter\n",
    "        n_tweets: the number of tweets to collect\n",
    "        sleep_time: the amount of time to wait before re-rerunning (this is to avoid hitting the Twitter rate limit)\n",
    "    \n",
    "    Returns:\n",
    "        A list of tweet status objects \n",
    "    \"\"\"\n",
    "    tweets = []\n",
    "    tweets_status = api.search(q=search_term, count=100, result_type='recent')\n",
    "\n",
    "    for tweet in tweets_status:\n",
    "        tweets.append(tweet)\n",
    "\n",
    "    tweets_max = tweets_status.since_id\n",
    "\n",
    "    while len(tweets) < n_tweets:\n",
    "        tweets_status = api.search(q=search_term, result_type='recent', since_id=tweets_max, count=100)\n",
    "        tweets_max = tweets_status.since_id\n",
    "        for tweet in tweets_status:\n",
    "            tweets += [tweet]\n",
    "        print 'appending', len(tweets_status), time.time()\n",
    "        time.sleep(sleep_time)\n",
    "\n",
    "    print 'done', len(tweets)\n",
    "    return tweets"
   ]
  },
  {
   "cell_type": "code",
   "execution_count": 9,
   "metadata": {
    "collapsed": false
   },
   "outputs": [
    {
     "name": "stdout",
     "output_type": "stream",
     "text": [
      "appending 100 1485911073.96\n",
      "appending 100 1485911085.15\n",
      "appending 100 1485911095.92\n",
      "appending 100 1485911106.55\n",
      "appending 100 1485911117.3\n",
      "appending 100 1485911127.95\n",
      "appending 100 1485911138.56\n",
      "appending 100 1485911149.23\n",
      "appending 100 1485911159.9\n",
      "appending 100 1485911170.83\n",
      "appending 100 1485911181.45\n",
      "appending 100 1485911192.25\n",
      "appending 100 1485911202.95\n",
      "appending 100 1485911213.54\n",
      "appending 100 1485911224.1\n",
      "appending 100 1485911234.76\n",
      "appending 100 1485911245.32\n",
      "appending 100 1485911255.96\n",
      "appending 100 1485911266.69\n",
      "appending 100 1485911277.22\n",
      "appending 100 1485911287.82\n",
      "appending 100 1485911298.54\n",
      "appending 100 1485911309.61\n",
      "appending 100 1485911320.09\n",
      "appending 100 1485911330.82\n",
      "appending 100 1485911341.8\n",
      "appending 100 1485911352.55\n",
      "appending 100 1485911363.27\n",
      "appending 100 1485911373.92\n",
      "appending 100 1485911384.58\n",
      "appending 100 1485911395.22\n",
      "appending 100 1485911405.99\n",
      "appending 100 1485911416.79\n",
      "appending 100 1485911427.54\n",
      "appending 100 1485911438.19\n",
      "appending 100 1485911449.92\n",
      "appending 100 1485911460.59\n",
      "appending 100 1485911471.31\n",
      "appending 100 1485911481.97\n",
      "appending 100 1485911493.4\n",
      "appending 100 1485911504.01\n",
      "appending 100 1485911514.74\n",
      "appending 100 1485911525.39\n",
      "appending 100 1485911536.32\n",
      "appending 100 1485911547.06\n",
      "appending 100 1485911557.72\n",
      "appending 100 1485911568.31\n",
      "appending 100 1485911579.04\n",
      "appending 100 1485911589.68\n",
      "appending 100 1485911600.34\n",
      "appending 100 1485911610.98\n",
      "appending 100 1485911622.32\n",
      "appending 100 1485911632.93\n",
      "appending 100 1485911643.68\n",
      "appending 100 1485911654.41\n",
      "appending 100 1485911665.16\n",
      "appending 100 1485911675.79\n",
      "appending 100 1485911686.56\n",
      "appending 100 1485911697.3\n",
      "appending 100 1485911708.12\n",
      "appending 100 1485911719.03\n",
      "appending 100 1485911729.64\n",
      "appending 100 1485911740.36\n",
      "appending 100 1485911751.07\n",
      "appending 100 1485911761.94\n",
      "appending 100 1485911772.7\n",
      "appending 100 1485911783.53\n",
      "appending 100 1485911794.24\n",
      "appending 100 1485911804.84\n",
      "appending 100 1485911815.47\n",
      "appending 100 1485911826.25\n",
      "appending 100 1485911836.99\n",
      "appending 100 1485911847.54\n",
      "appending 100 1485911858.29\n",
      "appending 100 1485911869.1\n",
      "appending 100 1485911880.11\n",
      "appending 100 1485911890.76\n",
      "appending 100 1485911901.78\n",
      "appending 100 1485911913.45\n",
      "appending 100 1485911924.14\n",
      "appending 100 1485911934.84\n",
      "appending 100 1485911945.69\n",
      "appending 100 1485911956.32\n",
      "appending 100 1485911967.1\n",
      "appending 100 1485911977.78\n",
      "appending 100 1485911988.74\n",
      "appending 100 1485911999.41\n",
      "appending 100 1485912010.25\n",
      "appending 100 1485912020.85\n",
      "appending 100 1485912031.45\n",
      "appending 100 1485912042.11\n",
      "appending 100 1485912052.98\n",
      "appending 100 1485912063.84\n",
      "appending 100 1485912074.45\n",
      "appending 100 1485912085.2\n",
      "appending 100 1485912095.97\n",
      "appending 100 1485912106.86\n",
      "appending 100 1485912117.77\n",
      "appending 100 1485912128.53\n",
      "done 10000\n"
     ]
    }
   ],
   "source": [
    "scotus = get_tweets('#SCOTUS', 10000, 10)"
   ]
  },
  {
   "cell_type": "code",
   "execution_count": 10,
   "metadata": {
    "collapsed": false
   },
   "outputs": [
    {
     "data": {
      "text/plain": [
       "(10000, 10000)"
      ]
     },
     "execution_count": 10,
     "metadata": {},
     "output_type": "execute_result"
    }
   ],
   "source": [
    "tweet_ids = []\n",
    "\n",
    "for tweet in scotus:\n",
    "    tweet_ids += [tweet.id]\n",
    "    \n",
    "len(tweet_ids), len(set(tweet_ids))"
   ]
  },
  {
   "cell_type": "code",
   "execution_count": 11,
   "metadata": {
    "collapsed": true
   },
   "outputs": [],
   "source": [
    "with open('scotus_tweets_01_31.pkl', 'w') as picklefile:\n",
    "    pickle.dump(scotus, picklefile)"
   ]
  },
  {
   "cell_type": "code",
   "execution_count": 12,
   "metadata": {
    "collapsed": false
   },
   "outputs": [
    {
     "data": {
      "text/plain": [
       "Status(contributors=None, truncated=False, text=u'RT @TEN_GOP: Dems lost the White House, Senate, House and 33 states in open elections, yet somehow feel they should be choosing a #SCOTUS j\\u2026', is_quote_status=False, in_reply_to_status_id=None, id=826596968294129664, favorite_count=0, _api=<tweepy.api.API object at 0x103fb7110>, author=User(follow_request_sent=False, has_extended_profile=False, profile_use_background_image=True, _json={u'follow_request_sent': False, u'has_extended_profile': False, u'profile_use_background_image': True, u'default_profile_image': False, u'id': 800561690613977088, u'profile_background_image_url_https': None, u'verified': False, u'translator_type': u'none', u'profile_text_color': u'333333', u'profile_image_url_https': u'https://pbs.twimg.com/profile_images/815871441073737728/oXrbuVy-_normal.jpg', u'profile_sidebar_fill_color': u'DDEEF6', u'entities': {u'description': {u'urls': []}}, u'followers_count': 1243, u'profile_sidebar_border_color': u'C0DEED', u'id_str': u'800561690613977088', u'profile_background_color': u'F5F8FA', u'listed_count': 10, u'is_translation_enabled': False, u'utc_offset': None, u'statuses_count': 4302, u'description': u'Music History Metal Politics', u'friends_count': 2731, u'location': u'', u'profile_link_color': u'1DA1F2', u'profile_image_url': u'http://pbs.twimg.com/profile_images/815871441073737728/oXrbuVy-_normal.jpg', u'following': False, u'geo_enabled': False, u'profile_banner_url': u'https://pbs.twimg.com/profile_banners/800561690613977088/1480558666', u'profile_background_image_url': None, u'screen_name': u'northlandrebel', u'lang': u'en', u'profile_background_tile': False, u'favourites_count': 45362, u'name': u'Northland Rebel', u'notifications': False, u'url': None, u'created_at': u'Mon Nov 21 04:49:15 +0000 2016', u'contributors_enabled': False, u'time_zone': None, u'protected': False, u'default_profile': True, u'is_translator': False}, time_zone=None, id=800561690613977088, description=u'Music History Metal Politics', _api=<tweepy.api.API object at 0x103fb7110>, verified=False, profile_text_color=u'333333', profile_image_url_https=u'https://pbs.twimg.com/profile_images/815871441073737728/oXrbuVy-_normal.jpg', profile_sidebar_fill_color=u'DDEEF6', is_translator=False, geo_enabled=False, entities={u'description': {u'urls': []}}, followers_count=1243, protected=False, id_str=u'800561690613977088', default_profile_image=False, listed_count=10, lang=u'en', utc_offset=None, statuses_count=4302, profile_background_color=u'F5F8FA', friends_count=2731, profile_link_color=u'1DA1F2', profile_image_url=u'http://pbs.twimg.com/profile_images/815871441073737728/oXrbuVy-_normal.jpg', notifications=False, default_profile=True, profile_background_image_url_https=None, profile_banner_url=u'https://pbs.twimg.com/profile_banners/800561690613977088/1480558666', profile_background_image_url=None, name=u'Northland Rebel', is_translation_enabled=False, profile_background_tile=False, favourites_count=45362, screen_name=u'northlandrebel', url=None, created_at=datetime.datetime(2016, 11, 21, 4, 49, 15), contributors_enabled=False, location=u'', profile_sidebar_border_color=u'C0DEED', translator_type=u'none', following=False), _json={u'contributors': None, u'truncated': False, u'text': u'RT @TEN_GOP: Dems lost the White House, Senate, House and 33 states in open elections, yet somehow feel they should be choosing a #SCOTUS j\\u2026', u'is_quote_status': False, u'in_reply_to_status_id': None, u'id': 826596968294129664, u'favorite_count': 0, u'entities': {u'symbols': [], u'user_mentions': [{u'id': 4224729994, u'indices': [3, 11], u'id_str': u'4224729994', u'screen_name': u'TEN_GOP', u'name': u'Tennessee'}], u'hashtags': [{u'indices': [130, 137], u'text': u'SCOTUS'}], u'urls': []}, u'retweeted': False, u'coordinates': None, u'source': u'<a href=\"http://twitter.com/download/android\" rel=\"nofollow\">Twitter for Android</a>', u'in_reply_to_screen_name': None, u'in_reply_to_user_id': None, u'retweet_count': 11, u'id_str': u'826596968294129664', u'favorited': False, u'retweeted_status': {u'contributors': None, u'truncated': False, u'text': u'Dems lost the White House, Senate, House and 33 states in open elections, yet somehow feel they should be choosing a #SCOTUS justice.', u'is_quote_status': False, u'in_reply_to_status_id': None, u'id': 826596796315074560, u'favorite_count': 19, u'entities': {u'symbols': [], u'user_mentions': [], u'hashtags': [{u'indices': [117, 124], u'text': u'SCOTUS'}], u'urls': []}, u'retweeted': False, u'coordinates': None, u'source': u'<a href=\"https://about.twitter.com/products/tweetdeck\" rel=\"nofollow\">TweetDeck</a>', u'in_reply_to_screen_name': None, u'in_reply_to_user_id': None, u'retweet_count': 11, u'id_str': u'826596796315074560', u'favorited': False, u'user': {u'follow_request_sent': False, u'has_extended_profile': True, u'profile_use_background_image': True, u'default_profile_image': False, u'id': 4224729994, u'profile_background_image_url_https': u'https://abs.twimg.com/images/themes/theme1/bg.png', u'verified': False, u'translator_type': u'none', u'profile_text_color': u'333333', u'profile_image_url_https': u'https://pbs.twimg.com/profile_images/673898503047917569/jAwPmxX1_normal.jpg', u'profile_sidebar_fill_color': u'DDEEF6', u'entities': {u'description': {u'urls': []}}, u'followers_count': 75725, u'profile_sidebar_border_color': u'C0DEED', u'id_str': u'4224729994', u'profile_background_color': u'C0DEED', u'listed_count': 575, u'is_translation_enabled': False, u'utc_offset': -28800, u'statuses_count': 6871, u'description': u'Unofficial Twitter of Tennessee Republicans. Covering breaking news, national politics, foreign policy and more. #MAGA #2A', u'friends_count': 72044, u'location': u'Tennessee, USA', u'profile_link_color': u'1DA1F2', u'profile_image_url': u'http://pbs.twimg.com/profile_images/673898503047917569/jAwPmxX1_normal.jpg', u'following': False, u'geo_enabled': False, u'profile_banner_url': u'https://pbs.twimg.com/profile_banners/4224729994/1485479449', u'profile_background_image_url': u'http://abs.twimg.com/images/themes/theme1/bg.png', u'screen_name': u'TEN_GOP', u'lang': u'en', u'profile_background_tile': False, u'favourites_count': 876, u'name': u'Tennessee', u'notifications': False, u'url': None, u'created_at': u'Thu Nov 19 07:40:10 +0000 2015', u'contributors_enabled': False, u'time_zone': u'Pacific Time (US & Canada)', u'protected': False, u'default_profile': True, u'is_translator': False}, u'geo': None, u'in_reply_to_user_id_str': None, u'lang': u'en', u'created_at': u'Wed Feb 01 01:03:28 +0000 2017', u'in_reply_to_status_id_str': None, u'place': None, u'metadata': {u'iso_language_code': u'en', u'result_type': u'recent'}}, u'user': {u'follow_request_sent': False, u'has_extended_profile': False, u'profile_use_background_image': True, u'default_profile_image': False, u'id': 800561690613977088, u'profile_background_image_url_https': None, u'verified': False, u'translator_type': u'none', u'profile_text_color': u'333333', u'profile_image_url_https': u'https://pbs.twimg.com/profile_images/815871441073737728/oXrbuVy-_normal.jpg', u'profile_sidebar_fill_color': u'DDEEF6', u'entities': {u'description': {u'urls': []}}, u'followers_count': 1243, u'profile_sidebar_border_color': u'C0DEED', u'id_str': u'800561690613977088', u'profile_background_color': u'F5F8FA', u'listed_count': 10, u'is_translation_enabled': False, u'utc_offset': None, u'statuses_count': 4302, u'description': u'Music History Metal Politics', u'friends_count': 2731, u'location': u'', u'profile_link_color': u'1DA1F2', u'profile_image_url': u'http://pbs.twimg.com/profile_images/815871441073737728/oXrbuVy-_normal.jpg', u'following': False, u'geo_enabled': False, u'profile_banner_url': u'https://pbs.twimg.com/profile_banners/800561690613977088/1480558666', u'profile_background_image_url': None, u'screen_name': u'northlandrebel', u'lang': u'en', u'profile_background_tile': False, u'favourites_count': 45362, u'name': u'Northland Rebel', u'notifications': False, u'url': None, u'created_at': u'Mon Nov 21 04:49:15 +0000 2016', u'contributors_enabled': False, u'time_zone': None, u'protected': False, u'default_profile': True, u'is_translator': False}, u'geo': None, u'in_reply_to_user_id_str': None, u'lang': u'en', u'created_at': u'Wed Feb 01 01:04:09 +0000 2017', u'in_reply_to_status_id_str': None, u'place': None, u'metadata': {u'iso_language_code': u'en', u'result_type': u'recent'}}, coordinates=None, entities={u'symbols': [], u'user_mentions': [{u'id': 4224729994, u'indices': [3, 11], u'id_str': u'4224729994', u'screen_name': u'TEN_GOP', u'name': u'Tennessee'}], u'hashtags': [{u'indices': [130, 137], u'text': u'SCOTUS'}], u'urls': []}, in_reply_to_screen_name=None, id_str=u'826596968294129664', retweet_count=11, in_reply_to_user_id=None, favorited=False, retweeted_status=Status(contributors=None, truncated=False, text=u'Dems lost the White House, Senate, House and 33 states in open elections, yet somehow feel they should be choosing a #SCOTUS justice.', is_quote_status=False, in_reply_to_status_id=None, id=826596796315074560, favorite_count=19, _api=<tweepy.api.API object at 0x103fb7110>, author=User(follow_request_sent=False, has_extended_profile=True, profile_use_background_image=True, _json={u'follow_request_sent': False, u'has_extended_profile': True, u'profile_use_background_image': True, u'default_profile_image': False, u'id': 4224729994, u'profile_background_image_url_https': u'https://abs.twimg.com/images/themes/theme1/bg.png', u'verified': False, u'translator_type': u'none', u'profile_text_color': u'333333', u'profile_image_url_https': u'https://pbs.twimg.com/profile_images/673898503047917569/jAwPmxX1_normal.jpg', u'profile_sidebar_fill_color': u'DDEEF6', u'entities': {u'description': {u'urls': []}}, u'followers_count': 75725, u'profile_sidebar_border_color': u'C0DEED', u'id_str': u'4224729994', u'profile_background_color': u'C0DEED', u'listed_count': 575, u'is_translation_enabled': False, u'utc_offset': -28800, u'statuses_count': 6871, u'description': u'Unofficial Twitter of Tennessee Republicans. Covering breaking news, national politics, foreign policy and more. #MAGA #2A', u'friends_count': 72044, u'location': u'Tennessee, USA', u'profile_link_color': u'1DA1F2', u'profile_image_url': u'http://pbs.twimg.com/profile_images/673898503047917569/jAwPmxX1_normal.jpg', u'following': False, u'geo_enabled': False, u'profile_banner_url': u'https://pbs.twimg.com/profile_banners/4224729994/1485479449', u'profile_background_image_url': u'http://abs.twimg.com/images/themes/theme1/bg.png', u'screen_name': u'TEN_GOP', u'lang': u'en', u'profile_background_tile': False, u'favourites_count': 876, u'name': u'Tennessee', u'notifications': False, u'url': None, u'created_at': u'Thu Nov 19 07:40:10 +0000 2015', u'contributors_enabled': False, u'time_zone': u'Pacific Time (US & Canada)', u'protected': False, u'default_profile': True, u'is_translator': False}, time_zone=u'Pacific Time (US & Canada)', id=4224729994, description=u'Unofficial Twitter of Tennessee Republicans. Covering breaking news, national politics, foreign policy and more. #MAGA #2A', _api=<tweepy.api.API object at 0x103fb7110>, verified=False, profile_text_color=u'333333', profile_image_url_https=u'https://pbs.twimg.com/profile_images/673898503047917569/jAwPmxX1_normal.jpg', profile_sidebar_fill_color=u'DDEEF6', is_translator=False, geo_enabled=False, entities={u'description': {u'urls': []}}, followers_count=75725, protected=False, id_str=u'4224729994', default_profile_image=False, listed_count=575, lang=u'en', utc_offset=-28800, statuses_count=6871, profile_background_color=u'C0DEED', friends_count=72044, profile_link_color=u'1DA1F2', profile_image_url=u'http://pbs.twimg.com/profile_images/673898503047917569/jAwPmxX1_normal.jpg', notifications=False, default_profile=True, profile_background_image_url_https=u'https://abs.twimg.com/images/themes/theme1/bg.png', profile_banner_url=u'https://pbs.twimg.com/profile_banners/4224729994/1485479449', profile_background_image_url=u'http://abs.twimg.com/images/themes/theme1/bg.png', name=u'Tennessee', is_translation_enabled=False, profile_background_tile=False, favourites_count=876, screen_name=u'TEN_GOP', url=None, created_at=datetime.datetime(2015, 11, 19, 7, 40, 10), contributors_enabled=False, location=u'Tennessee, USA', profile_sidebar_border_color=u'C0DEED', translator_type=u'none', following=False), _json={u'contributors': None, u'truncated': False, u'text': u'Dems lost the White House, Senate, House and 33 states in open elections, yet somehow feel they should be choosing a #SCOTUS justice.', u'is_quote_status': False, u'in_reply_to_status_id': None, u'id': 826596796315074560, u'favorite_count': 19, u'entities': {u'symbols': [], u'user_mentions': [], u'hashtags': [{u'indices': [117, 124], u'text': u'SCOTUS'}], u'urls': []}, u'retweeted': False, u'coordinates': None, u'source': u'<a href=\"https://about.twitter.com/products/tweetdeck\" rel=\"nofollow\">TweetDeck</a>', u'in_reply_to_screen_name': None, u'in_reply_to_user_id': None, u'retweet_count': 11, u'id_str': u'826596796315074560', u'favorited': False, u'user': {u'follow_request_sent': False, u'has_extended_profile': True, u'profile_use_background_image': True, u'default_profile_image': False, u'id': 4224729994, u'profile_background_image_url_https': u'https://abs.twimg.com/images/themes/theme1/bg.png', u'verified': False, u'translator_type': u'none', u'profile_text_color': u'333333', u'profile_image_url_https': u'https://pbs.twimg.com/profile_images/673898503047917569/jAwPmxX1_normal.jpg', u'profile_sidebar_fill_color': u'DDEEF6', u'entities': {u'description': {u'urls': []}}, u'followers_count': 75725, u'profile_sidebar_border_color': u'C0DEED', u'id_str': u'4224729994', u'profile_background_color': u'C0DEED', u'listed_count': 575, u'is_translation_enabled': False, u'utc_offset': -28800, u'statuses_count': 6871, u'description': u'Unofficial Twitter of Tennessee Republicans. Covering breaking news, national politics, foreign policy and more. #MAGA #2A', u'friends_count': 72044, u'location': u'Tennessee, USA', u'profile_link_color': u'1DA1F2', u'profile_image_url': u'http://pbs.twimg.com/profile_images/673898503047917569/jAwPmxX1_normal.jpg', u'following': False, u'geo_enabled': False, u'profile_banner_url': u'https://pbs.twimg.com/profile_banners/4224729994/1485479449', u'profile_background_image_url': u'http://abs.twimg.com/images/themes/theme1/bg.png', u'screen_name': u'TEN_GOP', u'lang': u'en', u'profile_background_tile': False, u'favourites_count': 876, u'name': u'Tennessee', u'notifications': False, u'url': None, u'created_at': u'Thu Nov 19 07:40:10 +0000 2015', u'contributors_enabled': False, u'time_zone': u'Pacific Time (US & Canada)', u'protected': False, u'default_profile': True, u'is_translator': False}, u'geo': None, u'in_reply_to_user_id_str': None, u'lang': u'en', u'created_at': u'Wed Feb 01 01:03:28 +0000 2017', u'in_reply_to_status_id_str': None, u'place': None, u'metadata': {u'iso_language_code': u'en', u'result_type': u'recent'}}, coordinates=None, entities={u'symbols': [], u'user_mentions': [], u'hashtags': [{u'indices': [117, 124], u'text': u'SCOTUS'}], u'urls': []}, in_reply_to_screen_name=None, id_str=u'826596796315074560', retweet_count=11, in_reply_to_user_id=None, favorited=False, source_url=u'https://about.twitter.com/products/tweetdeck', user=User(follow_request_sent=False, has_extended_profile=True, profile_use_background_image=True, _json={u'follow_request_sent': False, u'has_extended_profile': True, u'profile_use_background_image': True, u'default_profile_image': False, u'id': 4224729994, u'profile_background_image_url_https': u'https://abs.twimg.com/images/themes/theme1/bg.png', u'verified': False, u'translator_type': u'none', u'profile_text_color': u'333333', u'profile_image_url_https': u'https://pbs.twimg.com/profile_images/673898503047917569/jAwPmxX1_normal.jpg', u'profile_sidebar_fill_color': u'DDEEF6', u'entities': {u'description': {u'urls': []}}, u'followers_count': 75725, u'profile_sidebar_border_color': u'C0DEED', u'id_str': u'4224729994', u'profile_background_color': u'C0DEED', u'listed_count': 575, u'is_translation_enabled': False, u'utc_offset': -28800, u'statuses_count': 6871, u'description': u'Unofficial Twitter of Tennessee Republicans. Covering breaking news, national politics, foreign policy and more. #MAGA #2A', u'friends_count': 72044, u'location': u'Tennessee, USA', u'profile_link_color': u'1DA1F2', u'profile_image_url': u'http://pbs.twimg.com/profile_images/673898503047917569/jAwPmxX1_normal.jpg', u'following': False, u'geo_enabled': False, u'profile_banner_url': u'https://pbs.twimg.com/profile_banners/4224729994/1485479449', u'profile_background_image_url': u'http://abs.twimg.com/images/themes/theme1/bg.png', u'screen_name': u'TEN_GOP', u'lang': u'en', u'profile_background_tile': False, u'favourites_count': 876, u'name': u'Tennessee', u'notifications': False, u'url': None, u'created_at': u'Thu Nov 19 07:40:10 +0000 2015', u'contributors_enabled': False, u'time_zone': u'Pacific Time (US & Canada)', u'protected': False, u'default_profile': True, u'is_translator': False}, time_zone=u'Pacific Time (US & Canada)', id=4224729994, description=u'Unofficial Twitter of Tennessee Republicans. Covering breaking news, national politics, foreign policy and more. #MAGA #2A', _api=<tweepy.api.API object at 0x103fb7110>, verified=False, profile_text_color=u'333333', profile_image_url_https=u'https://pbs.twimg.com/profile_images/673898503047917569/jAwPmxX1_normal.jpg', profile_sidebar_fill_color=u'DDEEF6', is_translator=False, geo_enabled=False, entities={u'description': {u'urls': []}}, followers_count=75725, protected=False, id_str=u'4224729994', default_profile_image=False, listed_count=575, lang=u'en', utc_offset=-28800, statuses_count=6871, profile_background_color=u'C0DEED', friends_count=72044, profile_link_color=u'1DA1F2', profile_image_url=u'http://pbs.twimg.com/profile_images/673898503047917569/jAwPmxX1_normal.jpg', notifications=False, default_profile=True, profile_background_image_url_https=u'https://abs.twimg.com/images/themes/theme1/bg.png', profile_banner_url=u'https://pbs.twimg.com/profile_banners/4224729994/1485479449', profile_background_image_url=u'http://abs.twimg.com/images/themes/theme1/bg.png', name=u'Tennessee', is_translation_enabled=False, profile_background_tile=False, favourites_count=876, screen_name=u'TEN_GOP', url=None, created_at=datetime.datetime(2015, 11, 19, 7, 40, 10), contributors_enabled=False, location=u'Tennessee, USA', profile_sidebar_border_color=u'C0DEED', translator_type=u'none', following=False), geo=None, in_reply_to_user_id_str=None, lang=u'en', created_at=datetime.datetime(2017, 2, 1, 1, 3, 28), in_reply_to_status_id_str=None, place=None, source=u'TweetDeck', retweeted=False, metadata={u'iso_language_code': u'en', u'result_type': u'recent'}), source_url=u'http://twitter.com/download/android', user=User(follow_request_sent=False, has_extended_profile=False, profile_use_background_image=True, _json={u'follow_request_sent': False, u'has_extended_profile': False, u'profile_use_background_image': True, u'default_profile_image': False, u'id': 800561690613977088, u'profile_background_image_url_https': None, u'verified': False, u'translator_type': u'none', u'profile_text_color': u'333333', u'profile_image_url_https': u'https://pbs.twimg.com/profile_images/815871441073737728/oXrbuVy-_normal.jpg', u'profile_sidebar_fill_color': u'DDEEF6', u'entities': {u'description': {u'urls': []}}, u'followers_count': 1243, u'profile_sidebar_border_color': u'C0DEED', u'id_str': u'800561690613977088', u'profile_background_color': u'F5F8FA', u'listed_count': 10, u'is_translation_enabled': False, u'utc_offset': None, u'statuses_count': 4302, u'description': u'Music History Metal Politics', u'friends_count': 2731, u'location': u'', u'profile_link_color': u'1DA1F2', u'profile_image_url': u'http://pbs.twimg.com/profile_images/815871441073737728/oXrbuVy-_normal.jpg', u'following': False, u'geo_enabled': False, u'profile_banner_url': u'https://pbs.twimg.com/profile_banners/800561690613977088/1480558666', u'profile_background_image_url': None, u'screen_name': u'northlandrebel', u'lang': u'en', u'profile_background_tile': False, u'favourites_count': 45362, u'name': u'Northland Rebel', u'notifications': False, u'url': None, u'created_at': u'Mon Nov 21 04:49:15 +0000 2016', u'contributors_enabled': False, u'time_zone': None, u'protected': False, u'default_profile': True, u'is_translator': False}, time_zone=None, id=800561690613977088, description=u'Music History Metal Politics', _api=<tweepy.api.API object at 0x103fb7110>, verified=False, profile_text_color=u'333333', profile_image_url_https=u'https://pbs.twimg.com/profile_images/815871441073737728/oXrbuVy-_normal.jpg', profile_sidebar_fill_color=u'DDEEF6', is_translator=False, geo_enabled=False, entities={u'description': {u'urls': []}}, followers_count=1243, protected=False, id_str=u'800561690613977088', default_profile_image=False, listed_count=10, lang=u'en', utc_offset=None, statuses_count=4302, profile_background_color=u'F5F8FA', friends_count=2731, profile_link_color=u'1DA1F2', profile_image_url=u'http://pbs.twimg.com/profile_images/815871441073737728/oXrbuVy-_normal.jpg', notifications=False, default_profile=True, profile_background_image_url_https=None, profile_banner_url=u'https://pbs.twimg.com/profile_banners/800561690613977088/1480558666', profile_background_image_url=None, name=u'Northland Rebel', is_translation_enabled=False, profile_background_tile=False, favourites_count=45362, screen_name=u'northlandrebel', url=None, created_at=datetime.datetime(2016, 11, 21, 4, 49, 15), contributors_enabled=False, location=u'', profile_sidebar_border_color=u'C0DEED', translator_type=u'none', following=False), geo=None, in_reply_to_user_id_str=None, lang=u'en', created_at=datetime.datetime(2017, 2, 1, 1, 4, 9), in_reply_to_status_id_str=None, place=None, source=u'Twitter for Android', retweeted=False, metadata={u'iso_language_code': u'en', u'result_type': u'recent'})"
      ]
     },
     "execution_count": 12,
     "metadata": {},
     "output_type": "execute_result"
    }
   ],
   "source": [
    "scotus[0]"
   ]
  }
 ],
 "metadata": {
  "anaconda-cloud": {},
  "kernelspec": {
   "display_name": "Python [Root]",
   "language": "python",
   "name": "Python [Root]"
  },
  "language_info": {
   "codemirror_mode": {
    "name": "ipython",
    "version": 2
   },
   "file_extension": ".py",
   "mimetype": "text/x-python",
   "name": "python",
   "nbconvert_exporter": "python",
   "pygments_lexer": "ipython2",
   "version": "2.7.11"
  }
 },
 "nbformat": 4,
 "nbformat_minor": 0
}
