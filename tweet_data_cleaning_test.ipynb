{
 "cells": [
  {
   "cell_type": "code",
   "execution_count": 130,
   "metadata": {
    "collapsed": true
   },
   "outputs": [],
   "source": [
    "import numpy as np\n",
    "import pandas as pd\n",
    "import pickle\n",
    "import re\n",
    "import string"
   ]
  },
  {
   "cell_type": "code",
   "execution_count": 2,
   "metadata": {
    "collapsed": true
   },
   "outputs": [],
   "source": [
    "with open('scotus_tweets_01_31.pkl', 'r') as picklefile: \n",
    "    tweets = pickle.load(picklefile)"
   ]
  },
  {
   "cell_type": "code",
   "execution_count": 3,
   "metadata": {
    "collapsed": false,
    "scrolled": false
   },
   "outputs": [],
   "source": [
    "status = tweets[0]"
   ]
  },
  {
   "cell_type": "code",
   "execution_count": 42,
   "metadata": {
    "collapsed": false
   },
   "outputs": [],
   "source": [
    "tweets_clean = [{'tweet_id': tweet.id,\n",
    "                 'text': tweet.text,\n",
    "                 'tweet_time': tweet.created_at,\n",
    "                 'symbols': tweet.entities['symbols'],\n",
    "                 'mentions': tweet.entities['user_mentions'],\n",
    "                 'hashtags': tweet.entities['hashtags'],\n",
    "                 'urls': tweet.entities['urls'],\n",
    "                 'retweeted': tweet.retweeted,'user_id': tweet.user.id,\n",
    "                 'user_name': tweet.user.screen_name,\n",
    "                 'name': tweet.user.name,\n",
    "                 'bio': tweet.user.description,\n",
    "                 'followers': tweet.user.followers_count,\n",
    "                 'following': tweet.user.friends_count,\n",
    "                 'geo': tweet.geo,\n",
    "                 'location': tweet.user.location,\n",
    "                 'source': tweet.source,\n",
    "                 'verified': tweet.user.verified\n",
    "                } for tweet in tweets[:10]]"
   ]
  },
  {
   "cell_type": "code",
   "execution_count": 45,
   "metadata": {
    "collapsed": false,
    "scrolled": false
   },
   "outputs": [],
   "source": [
    "tweets_df = pd.DataFrame(tweets_clean)"
   ]
  },
  {
   "cell_type": "code",
   "execution_count": 60,
   "metadata": {
    "collapsed": false
   },
   "outputs": [
    {
     "data": {
      "text/plain": [
       "u'Harvard_Law'"
      ]
     },
     "execution_count": 60,
     "metadata": {},
     "output_type": "execute_result"
    }
   ],
   "source": [
    "tweets_df.mentions[7][0]['screen_name']"
   ]
  },
  {
   "cell_type": "code",
   "execution_count": 52,
   "metadata": {
    "collapsed": false
   },
   "outputs": [
    {
     "name": "stdout",
     "output_type": "stream",
     "text": [
      "RT @TEN_GOP: Dems lost the White House, Senate, House and 33 states in open elections, yet somehow feel they should be choosing a #SCOTUS j…\n",
      "#SCOTUS ... Gorsuch !\n",
      "\"I am a man of my word\"  lol ok, 45   #SCOTUS\n",
      "Trump picks Gorsuch for #SCOTUS  https://t.co/KnVPEYL3kH\n",
      "RT @MillerRoad: I missed the call-in numbers for #scotus #supremecourt\n",
      ".@realDonaldTrump pays his debt to conservatives w/his selection of Neil Gorsuch! #SCOTUS\n",
      "BREAKING: Trump selects Judge Neil Gorsuch as his #SCOTUS pick\n",
      "RT @Harvard_Law: What is originalism? @CassSunstein via @BV https://t.co/vrRRDLlwhH #SCOTUS\n",
      "It's Gorsuch! #SCOTUSNominee #SCOTUS\n",
      "RT @emzanotti: You guys, #SCOTUS is the missing bobcat and you know it.\n"
     ]
    }
   ],
   "source": [
    "for txt in tweets_df.text:\n",
    "    print txt.replace('\\n', ' ')"
   ]
  },
  {
   "cell_type": "code",
   "execution_count": 67,
   "metadata": {
    "collapsed": false
   },
   "outputs": [],
   "source": [
    "tweets_df['user_mentions'] = [[mention['screen_name'] for mention in mentions] for mentions in tweets_df.mentions]\n",
    "tweets_df['hashtag_list'] = [[tag['text'] for tag in hashtags] for hashtags in tweets_df.hashtags]\n",
    "tweets_df['url_list'] = [[url['url'] for url in urls] for urls in tweets_df.urls]"
   ]
  },
  {
   "cell_type": "code",
   "execution_count": 70,
   "metadata": {
    "collapsed": false
   },
   "outputs": [
    {
     "data": {
      "text/html": [
       "<div>\n",
       "<table border=\"1\" class=\"dataframe\">\n",
       "  <thead>\n",
       "    <tr style=\"text-align: right;\">\n",
       "      <th></th>\n",
       "      <th>bio</th>\n",
       "      <th>followers</th>\n",
       "      <th>following</th>\n",
       "      <th>geo</th>\n",
       "      <th>hashtags</th>\n",
       "      <th>location</th>\n",
       "      <th>mentions</th>\n",
       "      <th>name</th>\n",
       "      <th>retweeted</th>\n",
       "      <th>source</th>\n",
       "      <th>...</th>\n",
       "      <th>tweet_time</th>\n",
       "      <th>urls</th>\n",
       "      <th>user_id</th>\n",
       "      <th>user_name</th>\n",
       "      <th>verified</th>\n",
       "      <th>mentions_users</th>\n",
       "      <th>user_mentions</th>\n",
       "      <th>hashtag_list</th>\n",
       "      <th>url_list</th>\n",
       "      <th>text_list</th>\n",
       "    </tr>\n",
       "  </thead>\n",
       "  <tbody>\n",
       "    <tr>\n",
       "      <th>0</th>\n",
       "      <td>Music History Metal Politics</td>\n",
       "      <td>1243</td>\n",
       "      <td>2731</td>\n",
       "      <td>None</td>\n",
       "      <td>[{u'indices': [130, 137], u'text': u'SCOTUS'}]</td>\n",
       "      <td></td>\n",
       "      <td>[{u'indices': [3, 11], u'screen_name': u'TEN_G...</td>\n",
       "      <td>Northland Rebel</td>\n",
       "      <td>False</td>\n",
       "      <td>Twitter for Android</td>\n",
       "      <td>...</td>\n",
       "      <td>2017-02-01 01:04:09</td>\n",
       "      <td>[]</td>\n",
       "      <td>800561690613977088</td>\n",
       "      <td>northlandrebel</td>\n",
       "      <td>False</td>\n",
       "      <td>[TEN_GOP]</td>\n",
       "      <td>[TEN_GOP]</td>\n",
       "      <td>[SCOTUS]</td>\n",
       "      <td>[]</td>\n",
       "      <td>[RT, @TEN_GOP:, Dems, lost, the, White, House,...</td>\n",
       "    </tr>\n",
       "    <tr>\n",
       "      <th>1</th>\n",
       "      <td>sarcastic grenade throwing Conservative #waar;...</td>\n",
       "      <td>928</td>\n",
       "      <td>917</td>\n",
       "      <td>None</td>\n",
       "      <td>[{u'indices': [0, 7], u'text': u'SCOTUS'}]</td>\n",
       "      <td>St. Louis, MO</td>\n",
       "      <td>[]</td>\n",
       "      <td>William Allen</td>\n",
       "      <td>False</td>\n",
       "      <td>Twitter Web Client</td>\n",
       "      <td>...</td>\n",
       "      <td>2017-02-01 01:04:09</td>\n",
       "      <td>[]</td>\n",
       "      <td>1431404118</td>\n",
       "      <td>WhamaaAllen</td>\n",
       "      <td>False</td>\n",
       "      <td>[]</td>\n",
       "      <td>[]</td>\n",
       "      <td>[SCOTUS]</td>\n",
       "      <td>[]</td>\n",
       "      <td>[#SCOTUS, ..., Gorsuch, !]</td>\n",
       "    </tr>\n",
       "    <tr>\n",
       "      <th>2</th>\n",
       "      <td>jonathan cheban blocked me</td>\n",
       "      <td>403</td>\n",
       "      <td>1609</td>\n",
       "      <td>None</td>\n",
       "      <td>[{u'indices': [38, 45], u'text': u'SCOTUS'}]</td>\n",
       "      <td>Hell's Kitchen, NYC</td>\n",
       "      <td>[]</td>\n",
       "      <td>dj horn</td>\n",
       "      <td>False</td>\n",
       "      <td>Twitter for iPhone</td>\n",
       "      <td>...</td>\n",
       "      <td>2017-02-01 01:04:09</td>\n",
       "      <td>[]</td>\n",
       "      <td>19366299</td>\n",
       "      <td>thedirtyderek</td>\n",
       "      <td>False</td>\n",
       "      <td>[]</td>\n",
       "      <td>[]</td>\n",
       "      <td>[SCOTUS]</td>\n",
       "      <td>[]</td>\n",
       "      <td>[\"I, am, a, man, of, my, word\"\\n\\nlol, ok,, 45...</td>\n",
       "    </tr>\n",
       "    <tr>\n",
       "      <th>3</th>\n",
       "      <td>Managing Editor of @YahooFinance. Making busin...</td>\n",
       "      <td>18181</td>\n",
       "      <td>2430</td>\n",
       "      <td>None</td>\n",
       "      <td>[{u'indices': [24, 31], u'text': u'SCOTUS'}]</td>\n",
       "      <td>New York, NY</td>\n",
       "      <td>[]</td>\n",
       "      <td>Sam Ro</td>\n",
       "      <td>False</td>\n",
       "      <td>TweetDeck</td>\n",
       "      <td>...</td>\n",
       "      <td>2017-02-01 01:04:09</td>\n",
       "      <td>[{u'url': u'https://t.co/KnVPEYL3kH', u'indice...</td>\n",
       "      <td>239026022</td>\n",
       "      <td>bySamRo</td>\n",
       "      <td>True</td>\n",
       "      <td>[]</td>\n",
       "      <td>[]</td>\n",
       "      <td>[SCOTUS]</td>\n",
       "      <td>[https://t.co/KnVPEYL3kH]</td>\n",
       "      <td>[Trump, picks, Gorsuch, for, #SCOTUS, , https:...</td>\n",
       "    </tr>\n",
       "    <tr>\n",
       "      <th>4</th>\n",
       "      <td>Lived, loved and worked in the City of spies.</td>\n",
       "      <td>138</td>\n",
       "      <td>296</td>\n",
       "      <td>None</td>\n",
       "      <td>[{u'indices': [49, 56], u'text': u'scotus'}, {...</td>\n",
       "      <td></td>\n",
       "      <td>[{u'indices': [3, 14], u'screen_name': u'Mille...</td>\n",
       "      <td>Zenn</td>\n",
       "      <td>False</td>\n",
       "      <td>Twitter for iPhone</td>\n",
       "      <td>...</td>\n",
       "      <td>2017-02-01 01:04:09</td>\n",
       "      <td>[]</td>\n",
       "      <td>631552505</td>\n",
       "      <td>MzZenn</td>\n",
       "      <td>False</td>\n",
       "      <td>[MillerRoad]</td>\n",
       "      <td>[MillerRoad]</td>\n",
       "      <td>[scotus, supremecourt]</td>\n",
       "      <td>[]</td>\n",
       "      <td>[RT, @MillerRoad:, I, missed, the, call-in, nu...</td>\n",
       "    </tr>\n",
       "    <tr>\n",
       "      <th>5</th>\n",
       "      <td>#GOP Guy. GW Prof. - @GSPMgwu. Author. As Seen...</td>\n",
       "      <td>22721</td>\n",
       "      <td>2520</td>\n",
       "      <td>None</td>\n",
       "      <td>[{u'indices': [82, 89], u'text': u'SCOTUS'}]</td>\n",
       "      <td>Florida/D.C.</td>\n",
       "      <td>[{u'indices': [1, 17], u'screen_name': u'realD...</td>\n",
       "      <td>Ford O'Connell</td>\n",
       "      <td>False</td>\n",
       "      <td>TweetDeck</td>\n",
       "      <td>...</td>\n",
       "      <td>2017-02-01 01:04:08</td>\n",
       "      <td>[]</td>\n",
       "      <td>123899931</td>\n",
       "      <td>FordOConnell</td>\n",
       "      <td>False</td>\n",
       "      <td>[realDonaldTrump]</td>\n",
       "      <td>[realDonaldTrump]</td>\n",
       "      <td>[SCOTUS]</td>\n",
       "      <td>[]</td>\n",
       "      <td>[.@realDonaldTrump, pays, his, debt, to, conse...</td>\n",
       "    </tr>\n",
       "    <tr>\n",
       "      <th>6</th>\n",
       "      <td>Video Reporter at @YahooNews w/ @KatieCouric r...</td>\n",
       "      <td>1194</td>\n",
       "      <td>928</td>\n",
       "      <td>None</td>\n",
       "      <td>[{u'indices': [50, 57], u'text': u'SCOTUS'}]</td>\n",
       "      <td>New York, NY</td>\n",
       "      <td>[]</td>\n",
       "      <td>Summer Delaney</td>\n",
       "      <td>False</td>\n",
       "      <td>Twitter Web Client</td>\n",
       "      <td>...</td>\n",
       "      <td>2017-02-01 01:04:08</td>\n",
       "      <td>[]</td>\n",
       "      <td>450397102</td>\n",
       "      <td>Summer_Delaney</td>\n",
       "      <td>True</td>\n",
       "      <td>[]</td>\n",
       "      <td>[]</td>\n",
       "      <td>[SCOTUS]</td>\n",
       "      <td>[]</td>\n",
       "      <td>[BREAKING:, Trump, selects, Judge, Neil, Gorsu...</td>\n",
       "    </tr>\n",
       "    <tr>\n",
       "      <th>7</th>\n",
       "      <td></td>\n",
       "      <td>1</td>\n",
       "      <td>87</td>\n",
       "      <td>None</td>\n",
       "      <td>[{u'indices': [84, 91], u'text': u'SCOTUS'}]</td>\n",
       "      <td>Brasília, Brasil</td>\n",
       "      <td>[{u'indices': [3, 15], u'screen_name': u'Harva...</td>\n",
       "      <td>Marcus Paulo DaCunha</td>\n",
       "      <td>False</td>\n",
       "      <td>Twitter for iPhone</td>\n",
       "      <td>...</td>\n",
       "      <td>2017-02-01 01:04:08</td>\n",
       "      <td>[{u'url': u'https://t.co/vrRRDLlwhH', u'indice...</td>\n",
       "      <td>824335233545801731</td>\n",
       "      <td>marcuspcunha</td>\n",
       "      <td>False</td>\n",
       "      <td>[Harvard_Law, CassSunstein, BV]</td>\n",
       "      <td>[Harvard_Law, CassSunstein, BV]</td>\n",
       "      <td>[SCOTUS]</td>\n",
       "      <td>[https://t.co/vrRRDLlwhH]</td>\n",
       "      <td>[RT, @Harvard_Law:, What, is, originalism?, @C...</td>\n",
       "    </tr>\n",
       "    <tr>\n",
       "      <th>8</th>\n",
       "      <td>Bloomberg congressional and political reporter...</td>\n",
       "      <td>1607</td>\n",
       "      <td>1190</td>\n",
       "      <td>None</td>\n",
       "      <td>[{u'indices': [14, 28], u'text': u'SCOTUSNomin...</td>\n",
       "      <td>Washington, D.C.</td>\n",
       "      <td>[]</td>\n",
       "      <td>Laura Litvan</td>\n",
       "      <td>False</td>\n",
       "      <td>Twitter Web Client</td>\n",
       "      <td>...</td>\n",
       "      <td>2017-02-01 01:04:08</td>\n",
       "      <td>[]</td>\n",
       "      <td>313545488</td>\n",
       "      <td>LauraLitvan</td>\n",
       "      <td>False</td>\n",
       "      <td>[]</td>\n",
       "      <td>[]</td>\n",
       "      <td>[SCOTUSNominee, SCOTUS]</td>\n",
       "      <td>[]</td>\n",
       "      <td>[It's, Gorsuch!, #SCOTUSNominee, #SCOTUS]</td>\n",
       "    </tr>\n",
       "    <tr>\n",
       "      <th>9</th>\n",
       "      <td>Feminist. Historian. I have Fibromyalgia and i...</td>\n",
       "      <td>1764</td>\n",
       "      <td>599</td>\n",
       "      <td>None</td>\n",
       "      <td>[{u'indices': [25, 32], u'text': u'SCOTUS'}]</td>\n",
       "      <td>Austin, TX</td>\n",
       "      <td>[{u'indices': [3, 13], u'screen_name': u'emzan...</td>\n",
       "      <td>Virginia in Texas</td>\n",
       "      <td>False</td>\n",
       "      <td>TweetDeck</td>\n",
       "      <td>...</td>\n",
       "      <td>2017-02-01 01:04:08</td>\n",
       "      <td>[]</td>\n",
       "      <td>188164477</td>\n",
       "      <td>TooTwistedTV</td>\n",
       "      <td>False</td>\n",
       "      <td>[emzanotti]</td>\n",
       "      <td>[emzanotti]</td>\n",
       "      <td>[SCOTUS]</td>\n",
       "      <td>[]</td>\n",
       "      <td>[RT, @emzanotti:, You, guys,, #SCOTUS, is, the...</td>\n",
       "    </tr>\n",
       "  </tbody>\n",
       "</table>\n",
       "<p>10 rows × 23 columns</p>\n",
       "</div>"
      ],
      "text/plain": [
       "                                                 bio  followers  following  \\\n",
       "0                       Music History Metal Politics       1243       2731   \n",
       "1  sarcastic grenade throwing Conservative #waar;...        928        917   \n",
       "2                         jonathan cheban blocked me        403       1609   \n",
       "3  Managing Editor of @YahooFinance. Making busin...      18181       2430   \n",
       "4      Lived, loved and worked in the City of spies.        138        296   \n",
       "5  #GOP Guy. GW Prof. - @GSPMgwu. Author. As Seen...      22721       2520   \n",
       "6  Video Reporter at @YahooNews w/ @KatieCouric r...       1194        928   \n",
       "7                                                             1         87   \n",
       "8  Bloomberg congressional and political reporter...       1607       1190   \n",
       "9  Feminist. Historian. I have Fibromyalgia and i...       1764        599   \n",
       "\n",
       "    geo                                           hashtags  \\\n",
       "0  None     [{u'indices': [130, 137], u'text': u'SCOTUS'}]   \n",
       "1  None         [{u'indices': [0, 7], u'text': u'SCOTUS'}]   \n",
       "2  None       [{u'indices': [38, 45], u'text': u'SCOTUS'}]   \n",
       "3  None       [{u'indices': [24, 31], u'text': u'SCOTUS'}]   \n",
       "4  None  [{u'indices': [49, 56], u'text': u'scotus'}, {...   \n",
       "5  None       [{u'indices': [82, 89], u'text': u'SCOTUS'}]   \n",
       "6  None       [{u'indices': [50, 57], u'text': u'SCOTUS'}]   \n",
       "7  None       [{u'indices': [84, 91], u'text': u'SCOTUS'}]   \n",
       "8  None  [{u'indices': [14, 28], u'text': u'SCOTUSNomin...   \n",
       "9  None       [{u'indices': [25, 32], u'text': u'SCOTUS'}]   \n",
       "\n",
       "              location                                           mentions  \\\n",
       "0                       [{u'indices': [3, 11], u'screen_name': u'TEN_G...   \n",
       "1        St. Louis, MO                                                 []   \n",
       "2  Hell's Kitchen, NYC                                                 []   \n",
       "3         New York, NY                                                 []   \n",
       "4                       [{u'indices': [3, 14], u'screen_name': u'Mille...   \n",
       "5         Florida/D.C.  [{u'indices': [1, 17], u'screen_name': u'realD...   \n",
       "6         New York, NY                                                 []   \n",
       "7     Brasília, Brasil  [{u'indices': [3, 15], u'screen_name': u'Harva...   \n",
       "8    Washington, D.C.                                                  []   \n",
       "9           Austin, TX  [{u'indices': [3, 13], u'screen_name': u'emzan...   \n",
       "\n",
       "                   name retweeted               source  \\\n",
       "0       Northland Rebel     False  Twitter for Android   \n",
       "1         William Allen     False   Twitter Web Client   \n",
       "2               dj horn     False   Twitter for iPhone   \n",
       "3                Sam Ro     False            TweetDeck   \n",
       "4                  Zenn     False   Twitter for iPhone   \n",
       "5        Ford O'Connell     False            TweetDeck   \n",
       "6        Summer Delaney     False   Twitter Web Client   \n",
       "7  Marcus Paulo DaCunha     False   Twitter for iPhone   \n",
       "8          Laura Litvan     False   Twitter Web Client   \n",
       "9     Virginia in Texas     False            TweetDeck   \n",
       "\n",
       "                         ...                                  tweet_time  \\\n",
       "0                        ...                         2017-02-01 01:04:09   \n",
       "1                        ...                         2017-02-01 01:04:09   \n",
       "2                        ...                         2017-02-01 01:04:09   \n",
       "3                        ...                         2017-02-01 01:04:09   \n",
       "4                        ...                         2017-02-01 01:04:09   \n",
       "5                        ...                         2017-02-01 01:04:08   \n",
       "6                        ...                         2017-02-01 01:04:08   \n",
       "7                        ...                         2017-02-01 01:04:08   \n",
       "8                        ...                         2017-02-01 01:04:08   \n",
       "9                        ...                         2017-02-01 01:04:08   \n",
       "\n",
       "                                                urls             user_id  \\\n",
       "0                                                 []  800561690613977088   \n",
       "1                                                 []          1431404118   \n",
       "2                                                 []            19366299   \n",
       "3  [{u'url': u'https://t.co/KnVPEYL3kH', u'indice...           239026022   \n",
       "4                                                 []           631552505   \n",
       "5                                                 []           123899931   \n",
       "6                                                 []           450397102   \n",
       "7  [{u'url': u'https://t.co/vrRRDLlwhH', u'indice...  824335233545801731   \n",
       "8                                                 []           313545488   \n",
       "9                                                 []           188164477   \n",
       "\n",
       "        user_name verified                   mentions_users  \\\n",
       "0  northlandrebel    False                        [TEN_GOP]   \n",
       "1     WhamaaAllen    False                               []   \n",
       "2   thedirtyderek    False                               []   \n",
       "3         bySamRo     True                               []   \n",
       "4          MzZenn    False                     [MillerRoad]   \n",
       "5    FordOConnell    False                [realDonaldTrump]   \n",
       "6  Summer_Delaney     True                               []   \n",
       "7    marcuspcunha    False  [Harvard_Law, CassSunstein, BV]   \n",
       "8     LauraLitvan    False                               []   \n",
       "9    TooTwistedTV    False                      [emzanotti]   \n",
       "\n",
       "                     user_mentions             hashtag_list  \\\n",
       "0                        [TEN_GOP]                 [SCOTUS]   \n",
       "1                               []                 [SCOTUS]   \n",
       "2                               []                 [SCOTUS]   \n",
       "3                               []                 [SCOTUS]   \n",
       "4                     [MillerRoad]   [scotus, supremecourt]   \n",
       "5                [realDonaldTrump]                 [SCOTUS]   \n",
       "6                               []                 [SCOTUS]   \n",
       "7  [Harvard_Law, CassSunstein, BV]                 [SCOTUS]   \n",
       "8                               []  [SCOTUSNominee, SCOTUS]   \n",
       "9                      [emzanotti]                 [SCOTUS]   \n",
       "\n",
       "                    url_list  \\\n",
       "0                         []   \n",
       "1                         []   \n",
       "2                         []   \n",
       "3  [https://t.co/KnVPEYL3kH]   \n",
       "4                         []   \n",
       "5                         []   \n",
       "6                         []   \n",
       "7  [https://t.co/vrRRDLlwhH]   \n",
       "8                         []   \n",
       "9                         []   \n",
       "\n",
       "                                           text_list  \n",
       "0  [RT, @TEN_GOP:, Dems, lost, the, White, House,...  \n",
       "1                         [#SCOTUS, ..., Gorsuch, !]  \n",
       "2  [\"I, am, a, man, of, my, word\"\\n\\nlol, ok,, 45...  \n",
       "3  [Trump, picks, Gorsuch, for, #SCOTUS, , https:...  \n",
       "4  [RT, @MillerRoad:, I, missed, the, call-in, nu...  \n",
       "5  [.@realDonaldTrump, pays, his, debt, to, conse...  \n",
       "6  [BREAKING:, Trump, selects, Judge, Neil, Gorsu...  \n",
       "7  [RT, @Harvard_Law:, What, is, originalism?, @C...  \n",
       "8          [It's, Gorsuch!, #SCOTUSNominee, #SCOTUS]  \n",
       "9  [RT, @emzanotti:, You, guys,, #SCOTUS, is, the...  \n",
       "\n",
       "[10 rows x 23 columns]"
      ]
     },
     "execution_count": 70,
     "metadata": {},
     "output_type": "execute_result"
    }
   ],
   "source": [
    "tweets_df"
   ]
  },
  {
   "cell_type": "code",
   "execution_count": 150,
   "metadata": {
    "collapsed": false
   },
   "outputs": [],
   "source": [
    "def clean_tweet_text (tweet):\n",
    "    words = []\n",
    "    #remove urls\n",
    "    clean = re.sub(r'\\w+:\\/{2}[\\d\\w-]+(\\.[\\d\\w-]+)*(?:(?:\\/[^\\s/]*))*', '', tweet)\n",
    "    # remove mentions\n",
    "    clean = re.sub(r'@+\\w+', '', clean)\n",
    "    # iterate through words\n",
    "    for word in clean.strip().split():\n",
    "        # remove punctuation and whitespace\n",
    "        word = word.strip(string.punctuation + string.whitespace)\n",
    "        # transform to lowercase\n",
    "        word = word.lower()\n",
    "        # add word to words list\n",
    "        words += [word]\n",
    "    # remove any outstanding blanks\n",
    "    words = [word for word in words if word != '']\n",
    "    return words   "
   ]
  },
  {
   "cell_type": "code",
   "execution_count": 151,
   "metadata": {
    "collapsed": false
   },
   "outputs": [
    {
     "data": {
      "text/plain": [
       "[u'rt', u'what', u'is', u'originalism', u'via', u'scotus']"
      ]
     },
     "execution_count": 151,
     "metadata": {},
     "output_type": "execute_result"
    }
   ],
   "source": [
    "clean_tweet_text(tweets_df.text[7])"
   ]
  },
  {
   "cell_type": "code",
   "execution_count": 69,
   "metadata": {
    "collapsed": true
   },
   "outputs": [],
   "source": [
    "tweets_df['text_clean'] = [tweet.strip().split(' ') for tweet in tweets_df.text]"
   ]
  },
  {
   "cell_type": "code",
   "execution_count": 125,
   "metadata": {
    "collapsed": false
   },
   "outputs": [
    {
     "data": {
      "text/plain": [
       "u'RT @Harvard_Law: What is originalism? @CassSunstein via @BV  #SCOTUS'"
      ]
     },
     "execution_count": 125,
     "metadata": {},
     "output_type": "execute_result"
    }
   ],
   "source": [
    "re.sub(r'\\w+:\\/{2}[\\d\\w-]+(\\.[\\d\\w-]+)*(?:(?:\\/[^\\s/]*))*', '', tweets_df.text[7])"
   ]
  },
  {
   "cell_type": "code",
   "execution_count": 127,
   "metadata": {
    "collapsed": false
   },
   "outputs": [
    {
     "data": {
      "text/plain": [
       "u'RT : What is originalism?  via  https://t.co/vrRRDLlwhH #SCOTUS'"
      ]
     },
     "execution_count": 127,
     "metadata": {},
     "output_type": "execute_result"
    }
   ],
   "source": [
    "re.sub(r'@+\\w+', '', tweets_df.text[7])"
   ]
  },
  {
   "cell_type": "code",
   "execution_count": 129,
   "metadata": {
    "collapsed": false
   },
   "outputs": [
    {
     "data": {
      "text/plain": [
       "u'rt : what is originalism?  via   #scotus'"
      ]
     },
     "execution_count": 129,
     "metadata": {},
     "output_type": "execute_result"
    }
   ],
   "source": [
    "re.sub(r'@+\\w+', '', re.sub(r'\\w+:\\/{2}[\\d\\w-]+(\\.[\\d\\w-]+)*(?:(?:\\/[^\\s/]*))*', '', tweets_df.text[7])).lower()"
   ]
  },
  {
   "cell_type": "code",
   "execution_count": 73,
   "metadata": {
    "collapsed": false
   },
   "outputs": [
    {
     "data": {
      "text/plain": [
       "u'RT @Harvard_Law: What is originalism? @CassSunstein via @BV https://t.co/vrRRDLlwhH #SCOTUS'"
      ]
     },
     "execution_count": 73,
     "metadata": {},
     "output_type": "execute_result"
    }
   ],
   "source": [
    "tweets_df.text[7]"
   ]
  },
  {
   "cell_type": "code",
   "execution_count": null,
   "metadata": {
    "collapsed": true
   },
   "outputs": [],
   "source": []
  }
 ],
 "metadata": {
  "kernelspec": {
   "display_name": "Python 2",
   "language": "python",
   "name": "python2"
  },
  "language_info": {
   "codemirror_mode": {
    "name": "ipython",
    "version": 2
   },
   "file_extension": ".py",
   "mimetype": "text/x-python",
   "name": "python",
   "nbconvert_exporter": "python",
   "pygments_lexer": "ipython2",
   "version": "2.7.12"
  }
 },
 "nbformat": 4,
 "nbformat_minor": 0
}
