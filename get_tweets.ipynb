{
 "cells": [
  {
   "cell_type": "code",
   "execution_count": 1,
   "metadata": {
    "collapsed": true
   },
   "outputs": [],
   "source": [
    "import tweepy\n",
    "import cnfg\n",
    "import time\n",
    "import pickle"
   ]
  },
  {
   "cell_type": "code",
   "execution_count": 2,
   "metadata": {
    "collapsed": false
   },
   "outputs": [],
   "source": [
    "# import access keys\n",
    "config = cnfg.load(\".twitter_config\")\n",
    "\n",
    "# feed access keys to OAuth handler\n",
    "auth = tweepy.OAuthHandler(config[\"consumer_key\"],\n",
    "                           config[\"consumer_secret\"])\n",
    "auth.set_access_token(config[\"access_token\"],\n",
    "                      config[\"access_token_secret\"])\n",
    "\n",
    "# connect to twitter API\n",
    "api = tweepy.API(auth)"
   ]
  },
  {
   "cell_type": "code",
   "execution_count": 3,
   "metadata": {
    "collapsed": false
   },
   "outputs": [],
   "source": [
    "# get tweets\n",
    "tweets = api.search(q='#POTUS', count=100)"
   ]
  },
  {
   "cell_type": "code",
   "execution_count": 4,
   "metadata": {
    "collapsed": false,
    "scrolled": false
   },
   "outputs": [
    {
     "data": {
      "text/plain": [
       "u'RT @andylassner: Lovely photo of #POTUS and #FLOTUS https://t.co/iBMqKxKwZJ'"
      ]
     },
     "execution_count": 4,
     "metadata": {},
     "output_type": "execute_result"
    }
   ],
   "source": [
    "tweets[0].text"
   ]
  },
  {
   "cell_type": "code",
   "execution_count": null,
   "metadata": {
    "collapsed": false
   },
   "outputs": [],
   "source": [
    "tweets = []\n",
    "tweets_status = api.search(q='#POTUS', count=100, result_type='recent')\n",
    "\n",
    "for tweet in tweets_status:\n",
    "    tweets.append(tweet)\n",
    "\n",
    "tweets_max = tweets_status.since_id\n",
    "\n",
    "while len(tweets) < 2000:\n",
    "    tweets_status = api.search(q='#POTUS', result_type='recent', since_id=tweets_max, count=100)\n",
    "    tweets_max = tweets_status.since_id\n",
    "    for tweet in tweets_status:\n",
    "        tweets += [tweet]\n",
    "    print 'appending', len(tweets_status), time.time()\n",
    "    time.sleep(300)\n",
    "\n",
    "print 'done', len(tweets)"
   ]
  },
  {
   "cell_type": "code",
   "execution_count": null,
   "metadata": {
    "collapsed": true
   },
   "outputs": [],
   "source": [
    "tweet_ids = []\n",
    "\n",
    "for tweet in tweets:\n",
    "    tweet_ids += [tweet.id]\n",
    "    \n",
    "len(tweet_ids), len(set(tweet_ids))"
   ]
  },
  {
   "cell_type": "code",
   "execution_count": null,
   "metadata": {
    "collapsed": true
   },
   "outputs": [],
   "source": [
    "with open('potus_tweets_01_29.pkl', 'w') as picklefile:\n",
    "    pickle.dump(tweets, picklefile)"
   ]
  },
  {
   "cell_type": "code",
   "execution_count": null,
   "metadata": {
    "collapsed": true
   },
   "outputs": [],
   "source": []
  }
 ],
 "metadata": {
  "kernelspec": {
   "display_name": "Python 2",
   "language": "python",
   "name": "python2"
  },
  "language_info": {
   "codemirror_mode": {
    "name": "ipython",
    "version": 2
   },
   "file_extension": ".py",
   "mimetype": "text/x-python",
   "name": "python",
   "nbconvert_exporter": "python",
   "pygments_lexer": "ipython2",
   "version": "2.7.12"
  }
 },
 "nbformat": 4,
 "nbformat_minor": 0
}
