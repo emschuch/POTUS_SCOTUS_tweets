{
 "cells": [
  {
   "cell_type": "code",
   "execution_count": 1,
   "metadata": {
    "collapsed": true
   },
   "outputs": [],
   "source": [
    "import tweepy\n",
    "import cnfg\n",
    "import time\n",
    "import pickle"
   ]
  },
  {
   "cell_type": "code",
   "execution_count": 3,
   "metadata": {
    "collapsed": false
   },
   "outputs": [],
   "source": [
    "# import access keys\n",
    "config = cnfg.load(\"/Users/kaitlynmurphy/Documents/Post-It Project/.twitter_config\")\n",
    "\n",
    "# feed access keys to OAuth handler\n",
    "auth = tweepy.OAuthHandler(config[\"consumer_key\"],\n",
    "                           config[\"consumer_secret\"])\n",
    "auth.set_access_token(config[\"access_token\"],\n",
    "                      config[\"access_token_secret\"])\n",
    "\n",
    "# connect to twitter API\n",
    "api = tweepy.API(auth)"
   ]
  },
  {
   "cell_type": "code",
   "execution_count": 4,
   "metadata": {
    "collapsed": true
   },
   "outputs": [],
   "source": [
    "def get_tweets(search_term, n_tweets, sleep_time):\n",
    "    \"\"\"This function calls the Twitter API using tweepy\n",
    "    \n",
    "    Args:\n",
    "        search_term: any string to search for on Twitter\n",
    "        n_tweets: the number of tweets to collect\n",
    "        sleep_time: the amount of time to wait before re-rerunning (this is to avoid hitting the Twitter rate limit)\n",
    "    \n",
    "    Returns:\n",
    "        A list of tweet status objects \n",
    "    \"\"\"\n",
    "    tweets = []\n",
    "    tweets_status = api.search(q=search_term, count=100, result_type='recent')\n",
    "\n",
    "    for tweet in tweets_status:\n",
    "        tweets.append(tweet)\n",
    "\n",
    "    tweets_max = tweets_status.since_id\n",
    "\n",
    "    while len(tweets) < n_tweets:\n",
    "        tweets_status = api.search(q=search_term, result_type='recent', since_id=tweets_max, count=100)\n",
    "        tweets_max = tweets_status.since_id\n",
    "        for tweet in tweets_status:\n",
    "            tweets += [tweet]\n",
    "        print 'appending', len(tweets_status), time.time()\n",
    "        time.sleep(sleep_time)\n",
    "\n",
    "    print 'done', len(tweets)\n",
    "    return tweets"
   ]
  },
  {
   "cell_type": "code",
   "execution_count": 5,
   "metadata": {
    "collapsed": false
   },
   "outputs": [
    {
     "name": "stdout",
     "output_type": "stream",
     "text": [
      "appending 3 1485908826.87\n",
      "appending 100 1485908857.49\n",
      "appending 100 1485908888.22\n",
      "done 303\n"
     ]
    }
   ],
   "source": [
    "scotus = get_tweets('#SCOTUS', 300, 30)"
   ]
  },
  {
   "cell_type": "code",
   "execution_count": 6,
   "metadata": {
    "collapsed": false
   },
   "outputs": [
    {
     "data": {
      "text/plain": [
       "(303, 303)"
      ]
     },
     "execution_count": 6,
     "metadata": {},
     "output_type": "execute_result"
    }
   ],
   "source": [
    "tweet_ids = []\n",
    "\n",
    "for tweet in scotus:\n",
    "    tweet_ids += [tweet.id]\n",
    "    \n",
    "len(tweet_ids), len(set(tweet_ids))"
   ]
  },
  {
   "cell_type": "code",
   "execution_count": 7,
   "metadata": {
    "collapsed": true
   },
   "outputs": [],
   "source": [
    "with open('scotus_tweets_01_31_test.pkl', 'w') as picklefile:\n",
    "    pickle.dump(scotus, picklefile)"
   ]
  },
  {
   "cell_type": "code",
   "execution_count": null,
   "metadata": {
    "collapsed": true
   },
   "outputs": [],
   "source": []
  }
 ],
 "metadata": {
  "anaconda-cloud": {},
  "kernelspec": {
   "display_name": "Python [Root]",
   "language": "python",
   "name": "Python [Root]"
  },
  "language_info": {
   "codemirror_mode": {
    "name": "ipython",
    "version": 2
   },
   "file_extension": ".py",
   "mimetype": "text/x-python",
   "name": "python",
   "nbconvert_exporter": "python",
   "pygments_lexer": "ipython2",
   "version": "2.7.11"
  }
 },
 "nbformat": 4,
 "nbformat_minor": 0
}
