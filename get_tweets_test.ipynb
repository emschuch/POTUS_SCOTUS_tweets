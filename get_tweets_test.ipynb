{
 "cells": [
  {
   "cell_type": "code",
   "execution_count": 16,
   "metadata": {
    "collapsed": false
   },
   "outputs": [],
   "source": [
    "import tweepy\n",
    "import cnfg\n",
    "import time\n",
    "import pickle"
   ]
  },
  {
   "cell_type": "code",
   "execution_count": 2,
   "metadata": {
    "collapsed": false
   },
   "outputs": [],
   "source": [
    "# import access keys\n",
    "config = cnfg.load(\".twitter_config\")\n",
    "\n",
    "# feed access keys to OAuth handler\n",
    "auth = tweepy.OAuthHandler(config[\"consumer_key\"],\n",
    "                           config[\"consumer_secret\"])\n",
    "auth.set_access_token(config[\"access_token\"],\n",
    "                      config[\"access_token_secret\"])\n",
    "\n",
    "# connect to twitter API\n",
    "api = tweepy.API(auth)"
   ]
  },
  {
   "cell_type": "code",
   "execution_count": 3,
   "metadata": {
    "collapsed": false
   },
   "outputs": [],
   "source": [
    "# get tweets\n",
    "tweets = api.search(q='@POTUS', count=100)"
   ]
  },
  {
   "cell_type": "code",
   "execution_count": 4,
   "metadata": {
    "collapsed": false,
    "scrolled": false
   },
   "outputs": [
    {
     "data": {
      "text/plain": [
       "Status(contributors=None, truncated=False, text=u'RT @POTUS: YOUR WEEKLY ADDRESS: https://t.co/iCUns5IOJ5', is_quote_status=False, in_reply_to_status_id=None, id=825897550045597697, favorite_count=0, _api=<tweepy.api.API object at 0x10755e190>, author=User(follow_request_sent=False, has_extended_profile=False, profile_use_background_image=True, _json={u'follow_request_sent': False, u'has_extended_profile': False, u'profile_use_background_image': True, u'default_profile_image': False, u'id': 720905903872970752, u'profile_background_image_url_https': None, u'verified': False, u'translator_type': u'none', u'profile_text_color': u'333333', u'profile_image_url_https': u'https://pbs.twimg.com/profile_images/723457959859085312/CdD6ZpFl_normal.jpg', u'profile_sidebar_fill_color': u'DDEEF6', u'entities': {u'description': {u'urls': []}}, u'followers_count': 14, u'profile_sidebar_border_color': u'C0DEED', u'id_str': u'720905903872970752', u'profile_background_color': u'F5F8FA', u'listed_count': 0, u'is_translation_enabled': False, u'utc_offset': None, u'statuses_count': 25, u'description': u'', u'friends_count': 48, u'location': u'', u'profile_link_color': u'1DA1F2', u'profile_image_url': u'http://pbs.twimg.com/profile_images/723457959859085312/CdD6ZpFl_normal.jpg', u'following': False, u'geo_enabled': True, u'profile_background_image_url': None, u'screen_name': u'BuddeeDaodairam', u'lang': u'en', u'profile_background_tile': False, u'favourites_count': 26, u'name': u'Buddee Daodairam', u'notifications': False, u'url': None, u'created_at': u'Fri Apr 15 09:25:36 +0000 2016', u'contributors_enabled': False, u'time_zone': None, u'protected': False, u'default_profile': True, u'is_translator': False}, time_zone=None, id=720905903872970752, description=u'', _api=<tweepy.api.API object at 0x10755e190>, verified=False, profile_text_color=u'333333', profile_image_url_https=u'https://pbs.twimg.com/profile_images/723457959859085312/CdD6ZpFl_normal.jpg', profile_sidebar_fill_color=u'DDEEF6', is_translator=False, geo_enabled=True, entities={u'description': {u'urls': []}}, followers_count=14, protected=False, id_str=u'720905903872970752', default_profile_image=False, listed_count=0, lang=u'en', utc_offset=None, statuses_count=25, profile_background_color=u'F5F8FA', friends_count=48, profile_link_color=u'1DA1F2', profile_image_url=u'http://pbs.twimg.com/profile_images/723457959859085312/CdD6ZpFl_normal.jpg', notifications=False, default_profile=True, profile_background_image_url_https=None, profile_background_image_url=None, name=u'Buddee Daodairam', is_translation_enabled=False, profile_background_tile=False, favourites_count=26, screen_name=u'BuddeeDaodairam', url=None, created_at=datetime.datetime(2016, 4, 15, 9, 25, 36), contributors_enabled=False, location=u'', profile_sidebar_border_color=u'C0DEED', translator_type=u'none', following=False), _json={u'contributors': None, u'truncated': False, u'text': u'RT @POTUS: YOUR WEEKLY ADDRESS: https://t.co/iCUns5IOJ5', u'is_quote_status': False, u'in_reply_to_status_id': None, u'id': 825897550045597697, u'favorite_count': 0, u'entities': {u'symbols': [], u'user_mentions': [{u'id': 822215679726100480, u'indices': [3, 9], u'id_str': u'822215679726100480', u'screen_name': u'POTUS', u'name': u'President Trump'}], u'hashtags': [], u'urls': [], u'media': [{u'source_user_id': 822215679726100480, u'source_status_id_str': u'825435318778212352', u'expanded_url': u'https://twitter.com/POTUS/status/825435318778212352/video/1', u'display_url': u'pic.twitter.com/iCUns5IOJ5', u'url': u'https://t.co/iCUns5IOJ5', u'media_url_https': u'https://pbs.twimg.com/ext_tw_video_thumb/825433322855600129/pu/img/swtafDZt8PexSwka.jpg', u'source_user_id_str': u'822215679726100480', u'source_status_id': 825435318778212352, u'id_str': u'825433322855600129', u'sizes': {u'small': {u'h': 191, u'resize': u'fit', u'w': 340}, u'large': {u'h': 360, u'resize': u'fit', u'w': 640}, u'medium': {u'h': 338, u'resize': u'fit', u'w': 600}, u'thumb': {u'h': 150, u'resize': u'crop', u'w': 150}}, u'indices': [32, 55], u'type': u'photo', u'id': 825433322855600129, u'media_url': u'http://pbs.twimg.com/ext_tw_video_thumb/825433322855600129/pu/img/swtafDZt8PexSwka.jpg'}]}, u'retweeted': False, u'coordinates': None, u'source': u'<a href=\"http://twitter.com/download/iphone\" rel=\"nofollow\">Twitter for iPhone</a>', u'in_reply_to_screen_name': None, u'in_reply_to_user_id': None, u'retweet_count': 16648, u'id_str': u'825897550045597697', u'favorited': False, u'retweeted_status': {u'contributors': None, u'truncated': False, u'text': u'YOUR WEEKLY ADDRESS: https://t.co/iCUns5IOJ5', u'is_quote_status': False, u'in_reply_to_status_id': None, u'id': 825435318778212352, u'favorite_count': 53032, u'entities': {u'symbols': [], u'user_mentions': [], u'hashtags': [], u'urls': [], u'media': [{u'expanded_url': u'https://twitter.com/POTUS/status/825435318778212352/video/1', u'display_url': u'pic.twitter.com/iCUns5IOJ5', u'url': u'https://t.co/iCUns5IOJ5', u'media_url_https': u'https://pbs.twimg.com/ext_tw_video_thumb/825433322855600129/pu/img/swtafDZt8PexSwka.jpg', u'id_str': u'825433322855600129', u'sizes': {u'small': {u'h': 191, u'resize': u'fit', u'w': 340}, u'large': {u'h': 360, u'resize': u'fit', u'w': 640}, u'medium': {u'h': 338, u'resize': u'fit', u'w': 600}, u'thumb': {u'h': 150, u'resize': u'crop', u'w': 150}}, u'indices': [21, 44], u'type': u'photo', u'id': 825433322855600129, u'media_url': u'http://pbs.twimg.com/ext_tw_video_thumb/825433322855600129/pu/img/swtafDZt8PexSwka.jpg'}]}, u'retweeted': False, u'coordinates': None, u'source': u'<a href=\"http://twitter.com/download/iphone\" rel=\"nofollow\">Twitter for iPhone</a>', u'in_reply_to_screen_name': None, u'in_reply_to_user_id': None, u'retweet_count': 16648, u'id_str': u'825435318778212352', u'favorited': False, u'user': {u'follow_request_sent': False, u'has_extended_profile': False, u'profile_use_background_image': True, u'default_profile_image': False, u'id': 822215679726100480, u'profile_background_image_url_https': None, u'verified': True, u'translator_type': u'regular', u'profile_text_color': u'333333', u'profile_image_url_https': u'https://pbs.twimg.com/profile_images/822248776169504768/McYZqda-_normal.jpg', u'profile_sidebar_fill_color': u'DDEEF6', u'entities': {u'url': {u'urls': [{u'url': u'https://t.co/IxLjEB2zlE', u'indices': [0, 23], u'expanded_url': u'http://WhiteHouse.gov', u'display_url': u'WhiteHouse.gov'}]}, u'description': {u'urls': []}}, u'followers_count': 14545338, u'profile_sidebar_border_color': u'C0DEED', u'id_str': u'822215679726100480', u'profile_background_color': u'F5F8FA', u'listed_count': 7464, u'is_translation_enabled': False, u'utc_offset': -18000, u'statuses_count': 60, u'description': u'45th @POTUS @realDonaldTrump. Working on behalf of the American people to make our country great again. Tweets by @Scavino45. Tweets by #POTUS signed -DJT.', u'friends_count': 6, u'location': u'Washington, D.C.', u'profile_link_color': u'1DA1F2', u'profile_image_url': u'http://pbs.twimg.com/profile_images/822248776169504768/McYZqda-_normal.jpg', u'following': False, u'geo_enabled': True, u'profile_banner_url': u'https://pbs.twimg.com/profile_banners/822215679726100480/1485220055', u'profile_background_image_url': None, u'screen_name': u'POTUS', u'lang': u'en', u'profile_background_tile': False, u'favourites_count': 5, u'name': u'President Trump', u'notifications': False, u'url': u'https://t.co/IxLjEB2zlE', u'created_at': u'Thu Jan 19 22:54:28 +0000 2017', u'contributors_enabled': False, u'time_zone': u'America/New_York', u'protected': False, u'default_profile': True, u'is_translator': False}, u'geo': None, u'in_reply_to_user_id_str': None, u'possibly_sensitive': False, u'lang': u'en', u'created_at': u'Sat Jan 28 20:08:10 +0000 2017', u'in_reply_to_status_id_str': None, u'place': None, u'extended_entities': {u'media': [{u'additional_media_info': {u'monetizable': False}, u'expanded_url': u'https://twitter.com/POTUS/status/825435318778212352/video/1', u'display_url': u'pic.twitter.com/iCUns5IOJ5', u'url': u'https://t.co/iCUns5IOJ5', u'media_url_https': u'https://pbs.twimg.com/ext_tw_video_thumb/825433322855600129/pu/img/swtafDZt8PexSwka.jpg', u'video_info': {u'aspect_ratio': [16, 9], u'duration_millis': 140027, u'variants': [{u'url': u'https://video.twimg.com/ext_tw_video/825433322855600129/pu/vid/640x360/zGuhHJ-m5fcbD6PU.mp4', u'bitrate': 832000, u'content_type': u'video/mp4'}, {u'url': u'https://video.twimg.com/ext_tw_video/825433322855600129/pu/pl/BiB0jMmR2rHXHecL.m3u8', u'content_type': u'application/x-mpegURL'}, {u'url': u'https://video.twimg.com/ext_tw_video/825433322855600129/pu/vid/320x180/Heof7MdPTeoBA_AJ.mp4', u'bitrate': 320000, u'content_type': u'video/mp4'}, {u'url': u'https://video.twimg.com/ext_tw_video/825433322855600129/pu/pl/BiB0jMmR2rHXHecL.mpd', u'content_type': u'application/dash+xml'}]}, u'id_str': u'825433322855600129', u'sizes': {u'small': {u'h': 191, u'resize': u'fit', u'w': 340}, u'large': {u'h': 360, u'resize': u'fit', u'w': 640}, u'medium': {u'h': 338, u'resize': u'fit', u'w': 600}, u'thumb': {u'h': 150, u'resize': u'crop', u'w': 150}}, u'indices': [21, 44], u'type': u'video', u'id': 825433322855600129, u'media_url': u'http://pbs.twimg.com/ext_tw_video_thumb/825433322855600129/pu/img/swtafDZt8PexSwka.jpg'}]}, u'metadata': {u'iso_language_code': u'en', u'result_type': u'recent'}}, u'user': {u'follow_request_sent': False, u'has_extended_profile': False, u'profile_use_background_image': True, u'default_profile_image': False, u'id': 720905903872970752, u'profile_background_image_url_https': None, u'verified': False, u'translator_type': u'none', u'profile_text_color': u'333333', u'profile_image_url_https': u'https://pbs.twimg.com/profile_images/723457959859085312/CdD6ZpFl_normal.jpg', u'profile_sidebar_fill_color': u'DDEEF6', u'entities': {u'description': {u'urls': []}}, u'followers_count': 14, u'profile_sidebar_border_color': u'C0DEED', u'id_str': u'720905903872970752', u'profile_background_color': u'F5F8FA', u'listed_count': 0, u'is_translation_enabled': False, u'utc_offset': None, u'statuses_count': 25, u'description': u'', u'friends_count': 48, u'location': u'', u'profile_link_color': u'1DA1F2', u'profile_image_url': u'http://pbs.twimg.com/profile_images/723457959859085312/CdD6ZpFl_normal.jpg', u'following': False, u'geo_enabled': True, u'profile_background_image_url': None, u'screen_name': u'BuddeeDaodairam', u'lang': u'en', u'profile_background_tile': False, u'favourites_count': 26, u'name': u'Buddee Daodairam', u'notifications': False, u'url': None, u'created_at': u'Fri Apr 15 09:25:36 +0000 2016', u'contributors_enabled': False, u'time_zone': None, u'protected': False, u'default_profile': True, u'is_translator': False}, u'geo': None, u'in_reply_to_user_id_str': None, u'possibly_sensitive': False, u'lang': u'en', u'created_at': u'Mon Jan 30 02:44:55 +0000 2017', u'in_reply_to_status_id_str': None, u'place': None, u'extended_entities': {u'media': [{u'additional_media_info': {u'source_user': {u'follow_request_sent': False, u'has_extended_profile': False, u'profile_use_background_image': True, u'default_profile_image': False, u'id': 822215679726100480, u'profile_background_image_url_https': None, u'verified': True, u'translator_type': u'regular', u'profile_text_color': u'333333', u'profile_image_url_https': u'https://pbs.twimg.com/profile_images/822248776169504768/McYZqda-_normal.jpg', u'profile_sidebar_fill_color': u'DDEEF6', u'entities': {u'url': {u'urls': [{u'url': u'https://t.co/IxLjEB2zlE', u'indices': [0, 23], u'expanded_url': u'http://WhiteHouse.gov', u'display_url': u'WhiteHouse.gov'}]}, u'description': {u'urls': []}}, u'followers_count': 14545338, u'profile_sidebar_border_color': u'C0DEED', u'id_str': u'822215679726100480', u'profile_background_color': u'F5F8FA', u'listed_count': 7464, u'is_translation_enabled': False, u'utc_offset': -18000, u'statuses_count': 60, u'description': u'45th @POTUS @realDonaldTrump. Working on behalf of the American people to make our country great again. Tweets by @Scavino45. Tweets by #POTUS signed -DJT.', u'friends_count': 6, u'location': u'Washington, D.C.', u'profile_link_color': u'1DA1F2', u'profile_image_url': u'http://pbs.twimg.com/profile_images/822248776169504768/McYZqda-_normal.jpg', u'following': False, u'geo_enabled': True, u'profile_banner_url': u'https://pbs.twimg.com/profile_banners/822215679726100480/1485220055', u'profile_background_image_url': None, u'screen_name': u'POTUS', u'lang': u'en', u'profile_background_tile': False, u'favourites_count': 5, u'name': u'President Trump', u'notifications': False, u'url': u'https://t.co/IxLjEB2zlE', u'created_at': u'Thu Jan 19 22:54:28 +0000 2017', u'contributors_enabled': False, u'time_zone': u'America/New_York', u'protected': False, u'default_profile': True, u'is_translator': False}, u'monetizable': False}, u'source_user_id': 822215679726100480, u'source_status_id_str': u'825435318778212352', u'expanded_url': u'https://twitter.com/POTUS/status/825435318778212352/video/1', u'display_url': u'pic.twitter.com/iCUns5IOJ5', u'url': u'https://t.co/iCUns5IOJ5', u'media_url_https': u'https://pbs.twimg.com/ext_tw_video_thumb/825433322855600129/pu/img/swtafDZt8PexSwka.jpg', u'source_user_id_str': u'822215679726100480', u'source_status_id': 825435318778212352, u'video_info': {u'aspect_ratio': [16, 9], u'duration_millis': 140027, u'variants': [{u'url': u'https://video.twimg.com/ext_tw_video/825433322855600129/pu/vid/640x360/zGuhHJ-m5fcbD6PU.mp4', u'bitrate': 832000, u'content_type': u'video/mp4'}, {u'url': u'https://video.twimg.com/ext_tw_video/825433322855600129/pu/pl/BiB0jMmR2rHXHecL.m3u8', u'content_type': u'application/x-mpegURL'}, {u'url': u'https://video.twimg.com/ext_tw_video/825433322855600129/pu/vid/320x180/Heof7MdPTeoBA_AJ.mp4', u'bitrate': 320000, u'content_type': u'video/mp4'}, {u'url': u'https://video.twimg.com/ext_tw_video/825433322855600129/pu/pl/BiB0jMmR2rHXHecL.mpd', u'content_type': u'application/dash+xml'}]}, u'id_str': u'825433322855600129', u'sizes': {u'small': {u'h': 191, u'resize': u'fit', u'w': 340}, u'large': {u'h': 360, u'resize': u'fit', u'w': 640}, u'medium': {u'h': 338, u'resize': u'fit', u'w': 600}, u'thumb': {u'h': 150, u'resize': u'crop', u'w': 150}}, u'indices': [32, 55], u'type': u'video', u'id': 825433322855600129, u'media_url': u'http://pbs.twimg.com/ext_tw_video_thumb/825433322855600129/pu/img/swtafDZt8PexSwka.jpg'}]}, u'metadata': {u'iso_language_code': u'en', u'result_type': u'recent'}}, coordinates=None, entities={u'symbols': [], u'user_mentions': [{u'id': 822215679726100480, u'indices': [3, 9], u'id_str': u'822215679726100480', u'screen_name': u'POTUS', u'name': u'President Trump'}], u'hashtags': [], u'urls': [], u'media': [{u'source_user_id': 822215679726100480, u'source_status_id_str': u'825435318778212352', u'expanded_url': u'https://twitter.com/POTUS/status/825435318778212352/video/1', u'display_url': u'pic.twitter.com/iCUns5IOJ5', u'url': u'https://t.co/iCUns5IOJ5', u'media_url_https': u'https://pbs.twimg.com/ext_tw_video_thumb/825433322855600129/pu/img/swtafDZt8PexSwka.jpg', u'source_user_id_str': u'822215679726100480', u'source_status_id': 825435318778212352, u'id_str': u'825433322855600129', u'sizes': {u'small': {u'h': 191, u'resize': u'fit', u'w': 340}, u'large': {u'h': 360, u'resize': u'fit', u'w': 640}, u'medium': {u'h': 338, u'resize': u'fit', u'w': 600}, u'thumb': {u'h': 150, u'resize': u'crop', u'w': 150}}, u'indices': [32, 55], u'type': u'photo', u'id': 825433322855600129, u'media_url': u'http://pbs.twimg.com/ext_tw_video_thumb/825433322855600129/pu/img/swtafDZt8PexSwka.jpg'}]}, in_reply_to_screen_name=None, id_str=u'825897550045597697', retweet_count=16648, in_reply_to_user_id=None, favorited=False, retweeted_status=Status(contributors=None, truncated=False, text=u'YOUR WEEKLY ADDRESS: https://t.co/iCUns5IOJ5', is_quote_status=False, in_reply_to_status_id=None, id=825435318778212352, favorite_count=53032, _api=<tweepy.api.API object at 0x10755e190>, author=User(follow_request_sent=False, has_extended_profile=False, profile_use_background_image=True, _json={u'follow_request_sent': False, u'has_extended_profile': False, u'profile_use_background_image': True, u'default_profile_image': False, u'id': 822215679726100480, u'profile_background_image_url_https': None, u'verified': True, u'translator_type': u'regular', u'profile_text_color': u'333333', u'profile_image_url_https': u'https://pbs.twimg.com/profile_images/822248776169504768/McYZqda-_normal.jpg', u'profile_sidebar_fill_color': u'DDEEF6', u'entities': {u'url': {u'urls': [{u'url': u'https://t.co/IxLjEB2zlE', u'indices': [0, 23], u'expanded_url': u'http://WhiteHouse.gov', u'display_url': u'WhiteHouse.gov'}]}, u'description': {u'urls': []}}, u'followers_count': 14545338, u'profile_sidebar_border_color': u'C0DEED', u'id_str': u'822215679726100480', u'profile_background_color': u'F5F8FA', u'listed_count': 7464, u'is_translation_enabled': False, u'utc_offset': -18000, u'statuses_count': 60, u'description': u'45th @POTUS @realDonaldTrump. Working on behalf of the American people to make our country great again. Tweets by @Scavino45. Tweets by #POTUS signed -DJT.', u'friends_count': 6, u'location': u'Washington, D.C.', u'profile_link_color': u'1DA1F2', u'profile_image_url': u'http://pbs.twimg.com/profile_images/822248776169504768/McYZqda-_normal.jpg', u'following': False, u'geo_enabled': True, u'profile_banner_url': u'https://pbs.twimg.com/profile_banners/822215679726100480/1485220055', u'profile_background_image_url': None, u'screen_name': u'POTUS', u'lang': u'en', u'profile_background_tile': False, u'favourites_count': 5, u'name': u'President Trump', u'notifications': False, u'url': u'https://t.co/IxLjEB2zlE', u'created_at': u'Thu Jan 19 22:54:28 +0000 2017', u'contributors_enabled': False, u'time_zone': u'America/New_York', u'protected': False, u'default_profile': True, u'is_translator': False}, time_zone=u'America/New_York', id=822215679726100480, description=u'45th @POTUS @realDonaldTrump. Working on behalf of the American people to make our country great again. Tweets by @Scavino45. Tweets by #POTUS signed -DJT.', _api=<tweepy.api.API object at 0x10755e190>, verified=True, profile_text_color=u'333333', profile_image_url_https=u'https://pbs.twimg.com/profile_images/822248776169504768/McYZqda-_normal.jpg', profile_sidebar_fill_color=u'DDEEF6', is_translator=False, geo_enabled=True, entities={u'url': {u'urls': [{u'url': u'https://t.co/IxLjEB2zlE', u'indices': [0, 23], u'expanded_url': u'http://WhiteHouse.gov', u'display_url': u'WhiteHouse.gov'}]}, u'description': {u'urls': []}}, followers_count=14545338, protected=False, id_str=u'822215679726100480', default_profile_image=False, listed_count=7464, lang=u'en', utc_offset=-18000, statuses_count=60, profile_background_color=u'F5F8FA', friends_count=6, profile_link_color=u'1DA1F2', profile_image_url=u'http://pbs.twimg.com/profile_images/822248776169504768/McYZqda-_normal.jpg', notifications=False, default_profile=True, profile_background_image_url_https=None, profile_banner_url=u'https://pbs.twimg.com/profile_banners/822215679726100480/1485220055', profile_background_image_url=None, name=u'President Trump', is_translation_enabled=False, profile_background_tile=False, favourites_count=5, screen_name=u'POTUS', url=u'https://t.co/IxLjEB2zlE', created_at=datetime.datetime(2017, 1, 19, 22, 54, 28), contributors_enabled=False, location=u'Washington, D.C.', profile_sidebar_border_color=u'C0DEED', translator_type=u'regular', following=False), _json={u'contributors': None, u'truncated': False, u'text': u'YOUR WEEKLY ADDRESS: https://t.co/iCUns5IOJ5', u'is_quote_status': False, u'in_reply_to_status_id': None, u'id': 825435318778212352, u'favorite_count': 53032, u'entities': {u'symbols': [], u'user_mentions': [], u'hashtags': [], u'urls': [], u'media': [{u'expanded_url': u'https://twitter.com/POTUS/status/825435318778212352/video/1', u'display_url': u'pic.twitter.com/iCUns5IOJ5', u'url': u'https://t.co/iCUns5IOJ5', u'media_url_https': u'https://pbs.twimg.com/ext_tw_video_thumb/825433322855600129/pu/img/swtafDZt8PexSwka.jpg', u'id_str': u'825433322855600129', u'sizes': {u'small': {u'h': 191, u'resize': u'fit', u'w': 340}, u'large': {u'h': 360, u'resize': u'fit', u'w': 640}, u'medium': {u'h': 338, u'resize': u'fit', u'w': 600}, u'thumb': {u'h': 150, u'resize': u'crop', u'w': 150}}, u'indices': [21, 44], u'type': u'photo', u'id': 825433322855600129, u'media_url': u'http://pbs.twimg.com/ext_tw_video_thumb/825433322855600129/pu/img/swtafDZt8PexSwka.jpg'}]}, u'retweeted': False, u'coordinates': None, u'source': u'<a href=\"http://twitter.com/download/iphone\" rel=\"nofollow\">Twitter for iPhone</a>', u'in_reply_to_screen_name': None, u'in_reply_to_user_id': None, u'retweet_count': 16648, u'id_str': u'825435318778212352', u'favorited': False, u'user': {u'follow_request_sent': False, u'has_extended_profile': False, u'profile_use_background_image': True, u'default_profile_image': False, u'id': 822215679726100480, u'profile_background_image_url_https': None, u'verified': True, u'translator_type': u'regular', u'profile_text_color': u'333333', u'profile_image_url_https': u'https://pbs.twimg.com/profile_images/822248776169504768/McYZqda-_normal.jpg', u'profile_sidebar_fill_color': u'DDEEF6', u'entities': {u'url': {u'urls': [{u'url': u'https://t.co/IxLjEB2zlE', u'indices': [0, 23], u'expanded_url': u'http://WhiteHouse.gov', u'display_url': u'WhiteHouse.gov'}]}, u'description': {u'urls': []}}, u'followers_count': 14545338, u'profile_sidebar_border_color': u'C0DEED', u'id_str': u'822215679726100480', u'profile_background_color': u'F5F8FA', u'listed_count': 7464, u'is_translation_enabled': False, u'utc_offset': -18000, u'statuses_count': 60, u'description': u'45th @POTUS @realDonaldTrump. Working on behalf of the American people to make our country great again. Tweets by @Scavino45. Tweets by #POTUS signed -DJT.', u'friends_count': 6, u'location': u'Washington, D.C.', u'profile_link_color': u'1DA1F2', u'profile_image_url': u'http://pbs.twimg.com/profile_images/822248776169504768/McYZqda-_normal.jpg', u'following': False, u'geo_enabled': True, u'profile_banner_url': u'https://pbs.twimg.com/profile_banners/822215679726100480/1485220055', u'profile_background_image_url': None, u'screen_name': u'POTUS', u'lang': u'en', u'profile_background_tile': False, u'favourites_count': 5, u'name': u'President Trump', u'notifications': False, u'url': u'https://t.co/IxLjEB2zlE', u'created_at': u'Thu Jan 19 22:54:28 +0000 2017', u'contributors_enabled': False, u'time_zone': u'America/New_York', u'protected': False, u'default_profile': True, u'is_translator': False}, u'geo': None, u'in_reply_to_user_id_str': None, u'possibly_sensitive': False, u'lang': u'en', u'created_at': u'Sat Jan 28 20:08:10 +0000 2017', u'in_reply_to_status_id_str': None, u'place': None, u'extended_entities': {u'media': [{u'additional_media_info': {u'monetizable': False}, u'expanded_url': u'https://twitter.com/POTUS/status/825435318778212352/video/1', u'display_url': u'pic.twitter.com/iCUns5IOJ5', u'url': u'https://t.co/iCUns5IOJ5', u'media_url_https': u'https://pbs.twimg.com/ext_tw_video_thumb/825433322855600129/pu/img/swtafDZt8PexSwka.jpg', u'video_info': {u'aspect_ratio': [16, 9], u'duration_millis': 140027, u'variants': [{u'url': u'https://video.twimg.com/ext_tw_video/825433322855600129/pu/vid/640x360/zGuhHJ-m5fcbD6PU.mp4', u'bitrate': 832000, u'content_type': u'video/mp4'}, {u'url': u'https://video.twimg.com/ext_tw_video/825433322855600129/pu/pl/BiB0jMmR2rHXHecL.m3u8', u'content_type': u'application/x-mpegURL'}, {u'url': u'https://video.twimg.com/ext_tw_video/825433322855600129/pu/vid/320x180/Heof7MdPTeoBA_AJ.mp4', u'bitrate': 320000, u'content_type': u'video/mp4'}, {u'url': u'https://video.twimg.com/ext_tw_video/825433322855600129/pu/pl/BiB0jMmR2rHXHecL.mpd', u'content_type': u'application/dash+xml'}]}, u'id_str': u'825433322855600129', u'sizes': {u'small': {u'h': 191, u'resize': u'fit', u'w': 340}, u'large': {u'h': 360, u'resize': u'fit', u'w': 640}, u'medium': {u'h': 338, u'resize': u'fit', u'w': 600}, u'thumb': {u'h': 150, u'resize': u'crop', u'w': 150}}, u'indices': [21, 44], u'type': u'video', u'id': 825433322855600129, u'media_url': u'http://pbs.twimg.com/ext_tw_video_thumb/825433322855600129/pu/img/swtafDZt8PexSwka.jpg'}]}, u'metadata': {u'iso_language_code': u'en', u'result_type': u'recent'}}, coordinates=None, entities={u'symbols': [], u'user_mentions': [], u'hashtags': [], u'urls': [], u'media': [{u'expanded_url': u'https://twitter.com/POTUS/status/825435318778212352/video/1', u'display_url': u'pic.twitter.com/iCUns5IOJ5', u'url': u'https://t.co/iCUns5IOJ5', u'media_url_https': u'https://pbs.twimg.com/ext_tw_video_thumb/825433322855600129/pu/img/swtafDZt8PexSwka.jpg', u'id_str': u'825433322855600129', u'sizes': {u'small': {u'h': 191, u'resize': u'fit', u'w': 340}, u'large': {u'h': 360, u'resize': u'fit', u'w': 640}, u'medium': {u'h': 338, u'resize': u'fit', u'w': 600}, u'thumb': {u'h': 150, u'resize': u'crop', u'w': 150}}, u'indices': [21, 44], u'type': u'photo', u'id': 825433322855600129, u'media_url': u'http://pbs.twimg.com/ext_tw_video_thumb/825433322855600129/pu/img/swtafDZt8PexSwka.jpg'}]}, in_reply_to_screen_name=None, id_str=u'825435318778212352', retweet_count=16648, in_reply_to_user_id=None, favorited=False, source_url=u'http://twitter.com/download/iphone', user=User(follow_request_sent=False, has_extended_profile=False, profile_use_background_image=True, _json={u'follow_request_sent': False, u'has_extended_profile': False, u'profile_use_background_image': True, u'default_profile_image': False, u'id': 822215679726100480, u'profile_background_image_url_https': None, u'verified': True, u'translator_type': u'regular', u'profile_text_color': u'333333', u'profile_image_url_https': u'https://pbs.twimg.com/profile_images/822248776169504768/McYZqda-_normal.jpg', u'profile_sidebar_fill_color': u'DDEEF6', u'entities': {u'url': {u'urls': [{u'url': u'https://t.co/IxLjEB2zlE', u'indices': [0, 23], u'expanded_url': u'http://WhiteHouse.gov', u'display_url': u'WhiteHouse.gov'}]}, u'description': {u'urls': []}}, u'followers_count': 14545338, u'profile_sidebar_border_color': u'C0DEED', u'id_str': u'822215679726100480', u'profile_background_color': u'F5F8FA', u'listed_count': 7464, u'is_translation_enabled': False, u'utc_offset': -18000, u'statuses_count': 60, u'description': u'45th @POTUS @realDonaldTrump. Working on behalf of the American people to make our country great again. Tweets by @Scavino45. Tweets by #POTUS signed -DJT.', u'friends_count': 6, u'location': u'Washington, D.C.', u'profile_link_color': u'1DA1F2', u'profile_image_url': u'http://pbs.twimg.com/profile_images/822248776169504768/McYZqda-_normal.jpg', u'following': False, u'geo_enabled': True, u'profile_banner_url': u'https://pbs.twimg.com/profile_banners/822215679726100480/1485220055', u'profile_background_image_url': None, u'screen_name': u'POTUS', u'lang': u'en', u'profile_background_tile': False, u'favourites_count': 5, u'name': u'President Trump', u'notifications': False, u'url': u'https://t.co/IxLjEB2zlE', u'created_at': u'Thu Jan 19 22:54:28 +0000 2017', u'contributors_enabled': False, u'time_zone': u'America/New_York', u'protected': False, u'default_profile': True, u'is_translator': False}, time_zone=u'America/New_York', id=822215679726100480, description=u'45th @POTUS @realDonaldTrump. Working on behalf of the American people to make our country great again. Tweets by @Scavino45. Tweets by #POTUS signed -DJT.', _api=<tweepy.api.API object at 0x10755e190>, verified=True, profile_text_color=u'333333', profile_image_url_https=u'https://pbs.twimg.com/profile_images/822248776169504768/McYZqda-_normal.jpg', profile_sidebar_fill_color=u'DDEEF6', is_translator=False, geo_enabled=True, entities={u'url': {u'urls': [{u'url': u'https://t.co/IxLjEB2zlE', u'indices': [0, 23], u'expanded_url': u'http://WhiteHouse.gov', u'display_url': u'WhiteHouse.gov'}]}, u'description': {u'urls': []}}, followers_count=14545338, protected=False, id_str=u'822215679726100480', default_profile_image=False, listed_count=7464, lang=u'en', utc_offset=-18000, statuses_count=60, profile_background_color=u'F5F8FA', friends_count=6, profile_link_color=u'1DA1F2', profile_image_url=u'http://pbs.twimg.com/profile_images/822248776169504768/McYZqda-_normal.jpg', notifications=False, default_profile=True, profile_background_image_url_https=None, profile_banner_url=u'https://pbs.twimg.com/profile_banners/822215679726100480/1485220055', profile_background_image_url=None, name=u'President Trump', is_translation_enabled=False, profile_background_tile=False, favourites_count=5, screen_name=u'POTUS', url=u'https://t.co/IxLjEB2zlE', created_at=datetime.datetime(2017, 1, 19, 22, 54, 28), contributors_enabled=False, location=u'Washington, D.C.', profile_sidebar_border_color=u'C0DEED', translator_type=u'regular', following=False), geo=None, in_reply_to_user_id_str=None, possibly_sensitive=False, lang=u'en', created_at=datetime.datetime(2017, 1, 28, 20, 8, 10), in_reply_to_status_id_str=None, place=None, source=u'Twitter for iPhone', extended_entities={u'media': [{u'additional_media_info': {u'monetizable': False}, u'expanded_url': u'https://twitter.com/POTUS/status/825435318778212352/video/1', u'display_url': u'pic.twitter.com/iCUns5IOJ5', u'url': u'https://t.co/iCUns5IOJ5', u'media_url_https': u'https://pbs.twimg.com/ext_tw_video_thumb/825433322855600129/pu/img/swtafDZt8PexSwka.jpg', u'video_info': {u'aspect_ratio': [16, 9], u'duration_millis': 140027, u'variants': [{u'url': u'https://video.twimg.com/ext_tw_video/825433322855600129/pu/vid/640x360/zGuhHJ-m5fcbD6PU.mp4', u'bitrate': 832000, u'content_type': u'video/mp4'}, {u'url': u'https://video.twimg.com/ext_tw_video/825433322855600129/pu/pl/BiB0jMmR2rHXHecL.m3u8', u'content_type': u'application/x-mpegURL'}, {u'url': u'https://video.twimg.com/ext_tw_video/825433322855600129/pu/vid/320x180/Heof7MdPTeoBA_AJ.mp4', u'bitrate': 320000, u'content_type': u'video/mp4'}, {u'url': u'https://video.twimg.com/ext_tw_video/825433322855600129/pu/pl/BiB0jMmR2rHXHecL.mpd', u'content_type': u'application/dash+xml'}]}, u'id_str': u'825433322855600129', u'sizes': {u'small': {u'h': 191, u'resize': u'fit', u'w': 340}, u'large': {u'h': 360, u'resize': u'fit', u'w': 640}, u'medium': {u'h': 338, u'resize': u'fit', u'w': 600}, u'thumb': {u'h': 150, u'resize': u'crop', u'w': 150}}, u'indices': [21, 44], u'type': u'video', u'id': 825433322855600129, u'media_url': u'http://pbs.twimg.com/ext_tw_video_thumb/825433322855600129/pu/img/swtafDZt8PexSwka.jpg'}]}, retweeted=False, metadata={u'iso_language_code': u'en', u'result_type': u'recent'}), source_url=u'http://twitter.com/download/iphone', user=User(follow_request_sent=False, has_extended_profile=False, profile_use_background_image=True, _json={u'follow_request_sent': False, u'has_extended_profile': False, u'profile_use_background_image': True, u'default_profile_image': False, u'id': 720905903872970752, u'profile_background_image_url_https': None, u'verified': False, u'translator_type': u'none', u'profile_text_color': u'333333', u'profile_image_url_https': u'https://pbs.twimg.com/profile_images/723457959859085312/CdD6ZpFl_normal.jpg', u'profile_sidebar_fill_color': u'DDEEF6', u'entities': {u'description': {u'urls': []}}, u'followers_count': 14, u'profile_sidebar_border_color': u'C0DEED', u'id_str': u'720905903872970752', u'profile_background_color': u'F5F8FA', u'listed_count': 0, u'is_translation_enabled': False, u'utc_offset': None, u'statuses_count': 25, u'description': u'', u'friends_count': 48, u'location': u'', u'profile_link_color': u'1DA1F2', u'profile_image_url': u'http://pbs.twimg.com/profile_images/723457959859085312/CdD6ZpFl_normal.jpg', u'following': False, u'geo_enabled': True, u'profile_background_image_url': None, u'screen_name': u'BuddeeDaodairam', u'lang': u'en', u'profile_background_tile': False, u'favourites_count': 26, u'name': u'Buddee Daodairam', u'notifications': False, u'url': None, u'created_at': u'Fri Apr 15 09:25:36 +0000 2016', u'contributors_enabled': False, u'time_zone': None, u'protected': False, u'default_profile': True, u'is_translator': False}, time_zone=None, id=720905903872970752, description=u'', _api=<tweepy.api.API object at 0x10755e190>, verified=False, profile_text_color=u'333333', profile_image_url_https=u'https://pbs.twimg.com/profile_images/723457959859085312/CdD6ZpFl_normal.jpg', profile_sidebar_fill_color=u'DDEEF6', is_translator=False, geo_enabled=True, entities={u'description': {u'urls': []}}, followers_count=14, protected=False, id_str=u'720905903872970752', default_profile_image=False, listed_count=0, lang=u'en', utc_offset=None, statuses_count=25, profile_background_color=u'F5F8FA', friends_count=48, profile_link_color=u'1DA1F2', profile_image_url=u'http://pbs.twimg.com/profile_images/723457959859085312/CdD6ZpFl_normal.jpg', notifications=False, default_profile=True, profile_background_image_url_https=None, profile_background_image_url=None, name=u'Buddee Daodairam', is_translation_enabled=False, profile_background_tile=False, favourites_count=26, screen_name=u'BuddeeDaodairam', url=None, created_at=datetime.datetime(2016, 4, 15, 9, 25, 36), contributors_enabled=False, location=u'', profile_sidebar_border_color=u'C0DEED', translator_type=u'none', following=False), geo=None, in_reply_to_user_id_str=None, possibly_sensitive=False, lang=u'en', created_at=datetime.datetime(2017, 1, 30, 2, 44, 55), in_reply_to_status_id_str=None, place=None, source=u'Twitter for iPhone', extended_entities={u'media': [{u'additional_media_info': {u'source_user': {u'follow_request_sent': False, u'has_extended_profile': False, u'profile_use_background_image': True, u'default_profile_image': False, u'id': 822215679726100480, u'profile_background_image_url_https': None, u'verified': True, u'translator_type': u'regular', u'profile_text_color': u'333333', u'profile_image_url_https': u'https://pbs.twimg.com/profile_images/822248776169504768/McYZqda-_normal.jpg', u'profile_sidebar_fill_color': u'DDEEF6', u'entities': {u'url': {u'urls': [{u'url': u'https://t.co/IxLjEB2zlE', u'indices': [0, 23], u'expanded_url': u'http://WhiteHouse.gov', u'display_url': u'WhiteHouse.gov'}]}, u'description': {u'urls': []}}, u'followers_count': 14545338, u'profile_sidebar_border_color': u'C0DEED', u'id_str': u'822215679726100480', u'profile_background_color': u'F5F8FA', u'listed_count': 7464, u'is_translation_enabled': False, u'utc_offset': -18000, u'statuses_count': 60, u'description': u'45th @POTUS @realDonaldTrump. Working on behalf of the American people to make our country great again. Tweets by @Scavino45. Tweets by #POTUS signed -DJT.', u'friends_count': 6, u'location': u'Washington, D.C.', u'profile_link_color': u'1DA1F2', u'profile_image_url': u'http://pbs.twimg.com/profile_images/822248776169504768/McYZqda-_normal.jpg', u'following': False, u'geo_enabled': True, u'profile_banner_url': u'https://pbs.twimg.com/profile_banners/822215679726100480/1485220055', u'profile_background_image_url': None, u'screen_name': u'POTUS', u'lang': u'en', u'profile_background_tile': False, u'favourites_count': 5, u'name': u'President Trump', u'notifications': False, u'url': u'https://t.co/IxLjEB2zlE', u'created_at': u'Thu Jan 19 22:54:28 +0000 2017', u'contributors_enabled': False, u'time_zone': u'America/New_York', u'protected': False, u'default_profile': True, u'is_translator': False}, u'monetizable': False}, u'source_user_id': 822215679726100480, u'source_status_id_str': u'825435318778212352', u'expanded_url': u'https://twitter.com/POTUS/status/825435318778212352/video/1', u'display_url': u'pic.twitter.com/iCUns5IOJ5', u'url': u'https://t.co/iCUns5IOJ5', u'media_url_https': u'https://pbs.twimg.com/ext_tw_video_thumb/825433322855600129/pu/img/swtafDZt8PexSwka.jpg', u'source_user_id_str': u'822215679726100480', u'source_status_id': 825435318778212352, u'video_info': {u'aspect_ratio': [16, 9], u'duration_millis': 140027, u'variants': [{u'url': u'https://video.twimg.com/ext_tw_video/825433322855600129/pu/vid/640x360/zGuhHJ-m5fcbD6PU.mp4', u'bitrate': 832000, u'content_type': u'video/mp4'}, {u'url': u'https://video.twimg.com/ext_tw_video/825433322855600129/pu/pl/BiB0jMmR2rHXHecL.m3u8', u'content_type': u'application/x-mpegURL'}, {u'url': u'https://video.twimg.com/ext_tw_video/825433322855600129/pu/vid/320x180/Heof7MdPTeoBA_AJ.mp4', u'bitrate': 320000, u'content_type': u'video/mp4'}, {u'url': u'https://video.twimg.com/ext_tw_video/825433322855600129/pu/pl/BiB0jMmR2rHXHecL.mpd', u'content_type': u'application/dash+xml'}]}, u'id_str': u'825433322855600129', u'sizes': {u'small': {u'h': 191, u'resize': u'fit', u'w': 340}, u'large': {u'h': 360, u'resize': u'fit', u'w': 640}, u'medium': {u'h': 338, u'resize': u'fit', u'w': 600}, u'thumb': {u'h': 150, u'resize': u'crop', u'w': 150}}, u'indices': [32, 55], u'type': u'video', u'id': 825433322855600129, u'media_url': u'http://pbs.twimg.com/ext_tw_video_thumb/825433322855600129/pu/img/swtafDZt8PexSwka.jpg'}]}, retweeted=False, metadata={u'iso_language_code': u'en', u'result_type': u'recent'})"
      ]
     },
     "execution_count": 4,
     "metadata": {},
     "output_type": "execute_result"
    }
   ],
   "source": [
    "tweets[0]"
   ]
  },
  {
   "cell_type": "code",
   "execution_count": 35,
   "metadata": {
    "collapsed": false
   },
   "outputs": [
    {
     "name": "stdout",
     "output_type": "stream",
     "text": [
      "appending 1 1485754902.01\n",
      "appending 100 1485755023.17\n",
      "appending 100 1485755143.94\n",
      "done 301\n"
     ]
    }
   ],
   "source": [
    "tweets = []\n",
    "tweets_status = api.search(q='@POTUS', count=100, result_type='recent')\n",
    "\n",
    "for tweet in tweets_status:\n",
    "    tweets.append(tweet)\n",
    "\n",
    "tweets_max = tweets_status.since_id\n",
    "\n",
    "while len(tweets) < 300:\n",
    "    tweets_status = api.search(q='@POTUS', result_type='recent', since_id=tweets_max, count=100)\n",
    "    tweets_max = tweets_status.since_id\n",
    "    for tweet in tweets_status:\n",
    "        tweets += [tweet]\n",
    "    print 'appending', len(tweets_status), time.time()\n",
    "    time.sleep(120)\n",
    "\n",
    "print 'done', len(tweets)"
   ]
  },
  {
   "cell_type": "code",
   "execution_count": 36,
   "metadata": {
    "collapsed": false,
    "scrolled": false
   },
   "outputs": [],
   "source": [
    "status = tweets[-1]"
   ]
  },
  {
   "cell_type": "code",
   "execution_count": 37,
   "metadata": {
    "collapsed": false
   },
   "outputs": [
    {
     "data": {
      "text/plain": [
       "u'@EmmyStar79 The hatred @POTUS @realDonaldTrump is bringing is causing this. You think a #MuslimBan is going to end\\u2026 https://t.co/JZ23PXegGJ'"
      ]
     },
     "execution_count": 37,
     "metadata": {},
     "output_type": "execute_result"
    }
   ],
   "source": [
    "status.text"
   ]
  },
  {
   "cell_type": "code",
   "execution_count": 39,
   "metadata": {
    "collapsed": false
   },
   "outputs": [
    {
     "data": {
      "text/plain": [
       "825942886327791616"
      ]
     },
     "execution_count": 39,
     "metadata": {},
     "output_type": "execute_result"
    }
   ],
   "source": [
    "status.id"
   ]
  },
  {
   "cell_type": "code",
   "execution_count": 47,
   "metadata": {
    "collapsed": false
   },
   "outputs": [
    {
     "data": {
      "text/plain": [
       "u'STFUfilm'"
      ]
     },
     "execution_count": 47,
     "metadata": {},
     "output_type": "execute_result"
    }
   ],
   "source": [
    "status.user.screen_name"
   ]
  },
  {
   "cell_type": "code",
   "execution_count": 38,
   "metadata": {
    "collapsed": false
   },
   "outputs": [
    {
     "data": {
      "text/plain": [
       "(301, 301)"
      ]
     },
     "execution_count": 38,
     "metadata": {},
     "output_type": "execute_result"
    }
   ],
   "source": [
    "tweet_ids = []\n",
    "\n",
    "for tweet in tweets:\n",
    "    tweet_ids += [tweet.id]\n",
    "    \n",
    "len(tweet_ids), len(set(tweet_ids))"
   ]
  },
  {
   "cell_type": "code",
   "execution_count": null,
   "metadata": {
    "collapsed": true
   },
   "outputs": [],
   "source": [
    "with open('potus_tweets2_01_29.pkl', 'w') as picklefile:\n",
    "    pickle.dump(data, picklefile)"
   ]
  },
  {
   "cell_type": "code",
   "execution_count": null,
   "metadata": {
    "collapsed": true
   },
   "outputs": [],
   "source": []
  }
 ],
 "metadata": {
  "kernelspec": {
   "display_name": "Python 2",
   "language": "python",
   "name": "python2"
  },
  "language_info": {
   "codemirror_mode": {
    "name": "ipython",
    "version": 2
   },
   "file_extension": ".py",
   "mimetype": "text/x-python",
   "name": "python",
   "nbconvert_exporter": "python",
   "pygments_lexer": "ipython2",
   "version": "2.7.12"
  }
 },
 "nbformat": 4,
 "nbformat_minor": 0
}
